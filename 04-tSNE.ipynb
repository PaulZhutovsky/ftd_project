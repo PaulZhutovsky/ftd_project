{
 "cells": [
  {
   "cell_type": "code",
   "execution_count": 31,
   "metadata": {
    "collapsed": false
   },
   "outputs": [],
   "source": [
    "%matplotlib inline\n",
    "import numpy as np\n",
    "import matplotlib.pyplot as plt\n",
    "import seaborn as sns\n",
    "from sklearn.manifold import TSNE\n",
    "from sklearn.decomposition import PCA\n",
    "from sklearn.preprocessing import StandardScaler\n",
    "from joblib import Parallel, delayed\n",
    "import os.path as osp\n",
    "import pandas as pd\n",
    "from itertools import product\n",
    "from cPickle import load"
   ]
  },
  {
   "cell_type": "code",
   "execution_count": 36,
   "metadata": {
    "collapsed": false
   },
   "outputs": [],
   "source": [
    "FOLDER_DATA = '/data/shared/bvFTD/Machine_Learning/data'\n",
    "TSNE_DATA = '/data/shared/bvFTD/Machine_Learning/Scripts'\n",
    "X = np.load(osp.join(FOLDER_DATA, 'data_set.npy'))\n",
    "group_labels = pd.read_csv(osp.join(FOLDER_DATA, 'class_labels.csv'))\n",
    "id_ftd = group_labels.ftd.as_matrix()\n",
    "id_neurol = group_labels.neurol.as_matrix()\n",
    "id_psych = group_labels.psych.as_matrix()"
   ]
  },
  {
   "cell_type": "code",
   "execution_count": 44,
   "metadata": {
    "collapsed": false
   },
   "outputs": [
    {
     "ename": "IOError",
     "evalue": "[Errno 22] Invalid argument",
     "output_type": "error",
     "traceback": [
      "\u001b[0;31m---------------------------------------------------------------------------\u001b[0m",
      "\u001b[0;31mIOError\u001b[0m                                   Traceback (most recent call last)",
      "\u001b[0;32m<ipython-input-44-35d025f31b95>\u001b[0m in \u001b[0;36m<module>\u001b[0;34m()\u001b[0m\n\u001b[0;32m----> 1\u001b[0;31m \u001b[0mtmp\u001b[0m \u001b[0;34m=\u001b[0m \u001b[0mnp\u001b[0m\u001b[0;34m.\u001b[0m\u001b[0mload\u001b[0m\u001b[0;34m(\u001b[0m\u001b[0mosp\u001b[0m\u001b[0;34m.\u001b[0m\u001b[0mjoin\u001b[0m\u001b[0;34m(\u001b[0m\u001b[0mTSNE_DATA\u001b[0m\u001b[0;34m,\u001b[0m \u001b[0;34m'tsne_results.npz'\u001b[0m\u001b[0;34m)\u001b[0m\u001b[0;34m)\u001b[0m\u001b[0;34m\u001b[0m\u001b[0m\n\u001b[0m",
      "\u001b[0;32m/data/wbbruin/anaconda2/lib/python2.7/site-packages/numpy/lib/npyio.pyc\u001b[0m in \u001b[0;36mload\u001b[0;34m(file, mmap_mode, allow_pickle, fix_imports, encoding)\u001b[0m\n\u001b[1;32m    390\u001b[0m         \u001b[0mN\u001b[0m \u001b[0;34m=\u001b[0m \u001b[0mlen\u001b[0m\u001b[0;34m(\u001b[0m\u001b[0mformat\u001b[0m\u001b[0;34m.\u001b[0m\u001b[0mMAGIC_PREFIX\u001b[0m\u001b[0;34m)\u001b[0m\u001b[0;34m\u001b[0m\u001b[0m\n\u001b[1;32m    391\u001b[0m         \u001b[0mmagic\u001b[0m \u001b[0;34m=\u001b[0m \u001b[0mfid\u001b[0m\u001b[0;34m.\u001b[0m\u001b[0mread\u001b[0m\u001b[0;34m(\u001b[0m\u001b[0mN\u001b[0m\u001b[0;34m)\u001b[0m\u001b[0;34m\u001b[0m\u001b[0m\n\u001b[0;32m--> 392\u001b[0;31m         \u001b[0mfid\u001b[0m\u001b[0;34m.\u001b[0m\u001b[0mseek\u001b[0m\u001b[0;34m(\u001b[0m\u001b[0;34m-\u001b[0m\u001b[0mN\u001b[0m\u001b[0;34m,\u001b[0m \u001b[0;36m1\u001b[0m\u001b[0;34m)\u001b[0m  \u001b[0;31m# back-up\u001b[0m\u001b[0;34m\u001b[0m\u001b[0m\n\u001b[0m\u001b[1;32m    393\u001b[0m         \u001b[0;32mif\u001b[0m \u001b[0mmagic\u001b[0m\u001b[0;34m.\u001b[0m\u001b[0mstartswith\u001b[0m\u001b[0;34m(\u001b[0m\u001b[0m_ZIP_PREFIX\u001b[0m\u001b[0;34m)\u001b[0m\u001b[0;34m:\u001b[0m\u001b[0;34m\u001b[0m\u001b[0m\n\u001b[1;32m    394\u001b[0m             \u001b[0;31m# zip-file (assume .npz)\u001b[0m\u001b[0;34m\u001b[0m\u001b[0;34m\u001b[0m\u001b[0m\n",
      "\u001b[0;31mIOError\u001b[0m: [Errno 22] Invalid argument"
     ]
    }
   ],
   "source": [
    "tmp = np.load(osp.join(TSNE_DATA, 'tsne_results.npz'))"
   ]
  },
  {
   "cell_type": "code",
   "execution_count": 4,
   "metadata": {
    "collapsed": false
   },
   "outputs": [],
   "source": [
    "# masks zeros out\n",
    "id_zeros = np.all(X == 0, axis=0)\n",
    "X = X[:, ~id_zeros]"
   ]
  },
  {
   "cell_type": "code",
   "execution_count": 13,
   "metadata": {
    "collapsed": false
   },
   "outputs": [],
   "source": [
    "def make_scatter(data):\n",
    "    colors = ['r', 'g', 'b']\n",
    "    plt.scatter(data[id_ftd, 0], data[id_ftd, 1], c=colors[0], s=30)\n",
    "    plt.scatter(data[id_neurol, 0], data[id_neurol, 1], c=colors[1], s=30)\n",
    "    plt.scatter(data[id_psych, 0], data[id_psych, 1], c=colors[2], s=30)\n",
    "    plt.legend(['FTD', 'Neurological', 'Psychiatry'])"
   ]
  },
  {
   "cell_type": "code",
   "execution_count": 6,
   "metadata": {
    "collapsed": false
   },
   "outputs": [],
   "source": [
    "pca = PCA(n_components=500)\n",
    "X_pca = pca.fit_transform(X)"
   ]
  },
  {
   "cell_type": "code",
   "execution_count": 7,
   "metadata": {
    "collapsed": false
   },
   "outputs": [],
   "source": [
    "scaler = StandardScaler()\n",
    "X_pca_scl = scaler.fit_transform(X_pca)"
   ]
  },
  {
   "cell_type": "code",
   "execution_count": 8,
   "metadata": {
    "collapsed": false
   },
   "outputs": [
    {
     "name": "stdout",
     "output_type": "stream",
     "text": [
      "[t-SNE] Computing pairwise distances...\n",
      "[t-SNE] Computed conditional probabilities for sample 67 / 67\n",
      "[t-SNE] Mean sigma: 1.147088\n",
      "[t-SNE] KL divergence after 100 iterations with early exaggeration: 11.557287\n",
      "[t-SNE] Error after 725 iterations: 11.557287\n"
     ]
    },
    {
     "data": {
      "text/plain": [
       "TSNE(angle=0.5, early_exaggeration=4.0, init='pca', learning_rate=200,\n",
       "   method='exact', metric='euclidean', min_grad_norm=1e-07, n_components=3,\n",
       "   n_iter=1000, n_iter_without_progress=30, perplexity=10,\n",
       "   random_state=None, verbose=1)"
      ]
     },
     "execution_count": 8,
     "metadata": {},
     "output_type": "execute_result"
    }
   ],
   "source": [
    "tsne = TSNE(n_components=3, learning_rate=200, perplexity=10, init='pca', verbose=1, method='exact')\n",
    "tsne.fit(X_pca_scl)"
   ]
  },
  {
   "cell_type": "code",
   "execution_count": 9,
   "metadata": {
    "collapsed": true
   },
   "outputs": [],
   "source": [
    "learn_rate = np.linspace(100, 1000, 50)\n",
    "perplexity = np.arange(1, 51)"
   ]
  },
  {
   "cell_type": "code",
   "execution_count": 10,
   "metadata": {
    "collapsed": true
   },
   "outputs": [],
   "source": [
    "learn_rate = np.linspace(100, 1000, 200)\n",
    "perplexity = np.arange(1, 51)\n",
    "n_components = np.arange(2,4)\n",
    "n_jobs = 10\n",
    "\n",
    "embedings = {}\n",
    "for n in n_components:\n",
    "    embedings[n] = np.zeros((X_pca_scl.shape[0], n, learn_rate.size * perplexity.size))\n",
    "    \n",
    "kl_div = np.zeros(learn_rate.size * perplexity.size * n_components, dtype=np.float)"
   ]
  },
  {
   "cell_type": "code",
   "execution_count": 11,
   "metadata": {
    "collapsed": false
   },
   "outputs": [
    {
     "ename": "JoblibTypeError",
     "evalue": "JoblibTypeError\n___________________________________________________________________________\nMultiprocessing exception:\n...........................................................................\n/data/wbbruin/anaconda2/lib/python2.7/runpy.py in _run_module_as_main(mod_name='ipykernel.__main__', alter_argv=1)\n    169     pkg_name = mod_name.rpartition('.')[0]\n    170     main_globals = sys.modules[\"__main__\"].__dict__\n    171     if alter_argv:\n    172         sys.argv[0] = fname\n    173     return _run_code(code, main_globals, None,\n--> 174                      \"__main__\", fname, loader, pkg_name)\n        fname = '/data/wbbruin/anaconda2/lib/python2.7/site-packages/ipykernel/__main__.py'\n        loader = <pkgutil.ImpLoader instance>\n        pkg_name = 'ipykernel'\n    175 \n    176 def run_module(mod_name, init_globals=None,\n    177                run_name=None, alter_sys=False):\n    178     \"\"\"Execute a module's code without importing it\n\n...........................................................................\n/data/wbbruin/anaconda2/lib/python2.7/runpy.py in _run_code(code=<code object <module> at 0x7f675ecdf130, file \"/...2.7/site-packages/ipykernel/__main__.py\", line 1>, run_globals={'__builtins__': <module '__builtin__' (built-in)>, '__doc__': None, '__file__': '/data/wbbruin/anaconda2/lib/python2.7/site-packages/ipykernel/__main__.py', '__loader__': <pkgutil.ImpLoader instance>, '__name__': '__main__', '__package__': 'ipykernel', 'app': <module 'ipykernel.kernelapp' from '/data/wbbrui...python2.7/site-packages/ipykernel/kernelapp.pyc'>}, init_globals=None, mod_name='__main__', mod_fname='/data/wbbruin/anaconda2/lib/python2.7/site-packages/ipykernel/__main__.py', mod_loader=<pkgutil.ImpLoader instance>, pkg_name='ipykernel')\n     67         run_globals.update(init_globals)\n     68     run_globals.update(__name__ = mod_name,\n     69                        __file__ = mod_fname,\n     70                        __loader__ = mod_loader,\n     71                        __package__ = pkg_name)\n---> 72     exec code in run_globals\n        code = <code object <module> at 0x7f675ecdf130, file \"/...2.7/site-packages/ipykernel/__main__.py\", line 1>\n        run_globals = {'__builtins__': <module '__builtin__' (built-in)>, '__doc__': None, '__file__': '/data/wbbruin/anaconda2/lib/python2.7/site-packages/ipykernel/__main__.py', '__loader__': <pkgutil.ImpLoader instance>, '__name__': '__main__', '__package__': 'ipykernel', 'app': <module 'ipykernel.kernelapp' from '/data/wbbrui...python2.7/site-packages/ipykernel/kernelapp.pyc'>}\n     73     return run_globals\n     74 \n     75 def _run_module_code(code, init_globals=None,\n     76                     mod_name=None, mod_fname=None,\n\n...........................................................................\n/data/wbbruin/anaconda2/lib/python2.7/site-packages/ipykernel/__main__.py in <module>()\n      1 \n      2 \n----> 3 \n      4 if __name__ == '__main__':\n      5     from ipykernel import kernelapp as app\n      6     app.launch_new_instance()\n      7 \n      8 \n      9 \n     10 \n\n...........................................................................\n/data/wbbruin/anaconda2/lib/python2.7/site-packages/traitlets/config/application.py in launch_instance(cls=<class 'ipykernel.kernelapp.IPKernelApp'>, argv=None, **kwargs={})\n    648 \n    649         If a global instance already exists, this reinitializes and starts it\n    650         \"\"\"\n    651         app = cls.instance(**kwargs)\n    652         app.initialize(argv)\n--> 653         app.start()\n        app.start = <bound method IPKernelApp.start of <ipykernel.kernelapp.IPKernelApp object>>\n    654 \n    655 #-----------------------------------------------------------------------------\n    656 # utility functions, for convenience\n    657 #-----------------------------------------------------------------------------\n\n...........................................................................\n/data/wbbruin/anaconda2/lib/python2.7/site-packages/ipykernel/kernelapp.py in start(self=<ipykernel.kernelapp.IPKernelApp object>)\n    469             return self.subapp.start()\n    470         if self.poller is not None:\n    471             self.poller.start()\n    472         self.kernel.start()\n    473         try:\n--> 474             ioloop.IOLoop.instance().start()\n    475         except KeyboardInterrupt:\n    476             pass\n    477 \n    478 launch_new_instance = IPKernelApp.launch_instance\n\n...........................................................................\n/data/wbbruin/anaconda2/lib/python2.7/site-packages/zmq/eventloop/ioloop.py in start(self=<zmq.eventloop.ioloop.ZMQIOLoop object>)\n    157             PollIOLoop.configure(ZMQIOLoop)\n    158         return PollIOLoop.current(*args, **kwargs)\n    159     \n    160     def start(self):\n    161         try:\n--> 162             super(ZMQIOLoop, self).start()\n        self.start = <bound method ZMQIOLoop.start of <zmq.eventloop.ioloop.ZMQIOLoop object>>\n    163         except ZMQError as e:\n    164             if e.errno == ETERM:\n    165                 # quietly return on ETERM\n    166                 pass\n\n...........................................................................\n/data/wbbruin/anaconda2/lib/python2.7/site-packages/tornado/ioloop.py in start(self=<zmq.eventloop.ioloop.ZMQIOLoop object>)\n    882                 self._events.update(event_pairs)\n    883                 while self._events:\n    884                     fd, events = self._events.popitem()\n    885                     try:\n    886                         fd_obj, handler_func = self._handlers[fd]\n--> 887                         handler_func(fd_obj, events)\n        handler_func = <function null_wrapper>\n        fd_obj = <zmq.sugar.socket.Socket object>\n        events = 5\n    888                     except (OSError, IOError) as e:\n    889                         if errno_from_exception(e) == errno.EPIPE:\n    890                             # Happens when the client closes the connection\n    891                             pass\n\n...........................................................................\n/data/wbbruin/anaconda2/lib/python2.7/site-packages/tornado/stack_context.py in null_wrapper(*args=(<zmq.sugar.socket.Socket object>, 5), **kwargs={})\n    270         # Fast path when there are no active contexts.\n    271         def null_wrapper(*args, **kwargs):\n    272             try:\n    273                 current_state = _state.contexts\n    274                 _state.contexts = cap_contexts[0]\n--> 275                 return fn(*args, **kwargs)\n        args = (<zmq.sugar.socket.Socket object>, 5)\n        kwargs = {}\n    276             finally:\n    277                 _state.contexts = current_state\n    278         null_wrapper._wrapped = True\n    279         return null_wrapper\n\n...........................................................................\n/data/wbbruin/anaconda2/lib/python2.7/site-packages/zmq/eventloop/zmqstream.py in _handle_events(self=<zmq.eventloop.zmqstream.ZMQStream object>, fd=<zmq.sugar.socket.Socket object>, events=5)\n    435             # dispatch events:\n    436             if events & IOLoop.ERROR:\n    437                 gen_log.error(\"got POLLERR event on ZMQStream, which doesn't make sense\")\n    438                 return\n    439             if events & IOLoop.READ:\n--> 440                 self._handle_recv()\n        self._handle_recv = <bound method ZMQStream._handle_recv of <zmq.eventloop.zmqstream.ZMQStream object>>\n    441                 if not self.socket:\n    442                     return\n    443             if events & IOLoop.WRITE:\n    444                 self._handle_send()\n\n...........................................................................\n/data/wbbruin/anaconda2/lib/python2.7/site-packages/zmq/eventloop/zmqstream.py in _handle_recv(self=<zmq.eventloop.zmqstream.ZMQStream object>)\n    467                 gen_log.error(\"RECV Error: %s\"%zmq.strerror(e.errno))\n    468         else:\n    469             if self._recv_callback:\n    470                 callback = self._recv_callback\n    471                 # self._recv_callback = None\n--> 472                 self._run_callback(callback, msg)\n        self._run_callback = <bound method ZMQStream._run_callback of <zmq.eventloop.zmqstream.ZMQStream object>>\n        callback = <function null_wrapper>\n        msg = [<zmq.sugar.frame.Frame object>, <zmq.sugar.frame.Frame object>, <zmq.sugar.frame.Frame object>, <zmq.sugar.frame.Frame object>, <zmq.sugar.frame.Frame object>, <zmq.sugar.frame.Frame object>, <zmq.sugar.frame.Frame object>]\n    473                 \n    474         # self.update_state()\n    475         \n    476 \n\n...........................................................................\n/data/wbbruin/anaconda2/lib/python2.7/site-packages/zmq/eventloop/zmqstream.py in _run_callback(self=<zmq.eventloop.zmqstream.ZMQStream object>, callback=<function null_wrapper>, *args=([<zmq.sugar.frame.Frame object>, <zmq.sugar.frame.Frame object>, <zmq.sugar.frame.Frame object>, <zmq.sugar.frame.Frame object>, <zmq.sugar.frame.Frame object>, <zmq.sugar.frame.Frame object>, <zmq.sugar.frame.Frame object>],), **kwargs={})\n    409         close our socket.\"\"\"\n    410         try:\n    411             # Use a NullContext to ensure that all StackContexts are run\n    412             # inside our blanket exception handler rather than outside.\n    413             with stack_context.NullContext():\n--> 414                 callback(*args, **kwargs)\n        callback = <function null_wrapper>\n        args = ([<zmq.sugar.frame.Frame object>, <zmq.sugar.frame.Frame object>, <zmq.sugar.frame.Frame object>, <zmq.sugar.frame.Frame object>, <zmq.sugar.frame.Frame object>, <zmq.sugar.frame.Frame object>, <zmq.sugar.frame.Frame object>],)\n        kwargs = {}\n    415         except:\n    416             gen_log.error(\"Uncaught exception, closing connection.\",\n    417                           exc_info=True)\n    418             # Close the socket on an uncaught exception from a user callback\n\n...........................................................................\n/data/wbbruin/anaconda2/lib/python2.7/site-packages/tornado/stack_context.py in null_wrapper(*args=([<zmq.sugar.frame.Frame object>, <zmq.sugar.frame.Frame object>, <zmq.sugar.frame.Frame object>, <zmq.sugar.frame.Frame object>, <zmq.sugar.frame.Frame object>, <zmq.sugar.frame.Frame object>, <zmq.sugar.frame.Frame object>],), **kwargs={})\n    270         # Fast path when there are no active contexts.\n    271         def null_wrapper(*args, **kwargs):\n    272             try:\n    273                 current_state = _state.contexts\n    274                 _state.contexts = cap_contexts[0]\n--> 275                 return fn(*args, **kwargs)\n        args = ([<zmq.sugar.frame.Frame object>, <zmq.sugar.frame.Frame object>, <zmq.sugar.frame.Frame object>, <zmq.sugar.frame.Frame object>, <zmq.sugar.frame.Frame object>, <zmq.sugar.frame.Frame object>, <zmq.sugar.frame.Frame object>],)\n        kwargs = {}\n    276             finally:\n    277                 _state.contexts = current_state\n    278         null_wrapper._wrapped = True\n    279         return null_wrapper\n\n...........................................................................\n/data/wbbruin/anaconda2/lib/python2.7/site-packages/ipykernel/kernelbase.py in dispatcher(msg=[<zmq.sugar.frame.Frame object>, <zmq.sugar.frame.Frame object>, <zmq.sugar.frame.Frame object>, <zmq.sugar.frame.Frame object>, <zmq.sugar.frame.Frame object>, <zmq.sugar.frame.Frame object>, <zmq.sugar.frame.Frame object>])\n    271         if self.control_stream:\n    272             self.control_stream.on_recv(self.dispatch_control, copy=False)\n    273 \n    274         def make_dispatcher(stream):\n    275             def dispatcher(msg):\n--> 276                 return self.dispatch_shell(stream, msg)\n        msg = [<zmq.sugar.frame.Frame object>, <zmq.sugar.frame.Frame object>, <zmq.sugar.frame.Frame object>, <zmq.sugar.frame.Frame object>, <zmq.sugar.frame.Frame object>, <zmq.sugar.frame.Frame object>, <zmq.sugar.frame.Frame object>]\n    277             return dispatcher\n    278 \n    279         for s in self.shell_streams:\n    280             s.on_recv(make_dispatcher(s), copy=False)\n\n...........................................................................\n/data/wbbruin/anaconda2/lib/python2.7/site-packages/ipykernel/kernelbase.py in dispatch_shell(self=<ipykernel.ipkernel.IPythonKernel object>, stream=<zmq.eventloop.zmqstream.ZMQStream object>, msg={'buffers': [], 'content': {u'allow_stdin': True, u'code': u\"def inner_loop_iteration(data, n, rate, perp, ...onents)))\\n\\nprint kl_div.min(), kl_div.argmin()\", u'silent': False, u'stop_on_error': True, u'store_history': True, u'user_expressions': {}}, 'header': {'date': '2016-11-07T15:57:09.984170', u'msg_id': u'0656BF97F87E42638B45C05003C1D3ED', u'msg_type': u'execute_request', u'session': u'3FEEF7D8BDEA4728BC528CD55A1C7C9D', u'username': u'username', u'version': u'5.0'}, 'metadata': {}, 'msg_id': u'0656BF97F87E42638B45C05003C1D3ED', 'msg_type': u'execute_request', 'parent_header': {}})\n    223             self.log.error(\"UNKNOWN MESSAGE TYPE: %r\", msg_type)\n    224         else:\n    225             self.log.debug(\"%s: %s\", msg_type, msg)\n    226             self.pre_handler_hook()\n    227             try:\n--> 228                 handler(stream, idents, msg)\n        handler = <bound method IPythonKernel.execute_request of <ipykernel.ipkernel.IPythonKernel object>>\n        stream = <zmq.eventloop.zmqstream.ZMQStream object>\n        idents = ['3FEEF7D8BDEA4728BC528CD55A1C7C9D']\n        msg = {'buffers': [], 'content': {u'allow_stdin': True, u'code': u\"def inner_loop_iteration(data, n, rate, perp, ...onents)))\\n\\nprint kl_div.min(), kl_div.argmin()\", u'silent': False, u'stop_on_error': True, u'store_history': True, u'user_expressions': {}}, 'header': {'date': '2016-11-07T15:57:09.984170', u'msg_id': u'0656BF97F87E42638B45C05003C1D3ED', u'msg_type': u'execute_request', u'session': u'3FEEF7D8BDEA4728BC528CD55A1C7C9D', u'username': u'username', u'version': u'5.0'}, 'metadata': {}, 'msg_id': u'0656BF97F87E42638B45C05003C1D3ED', 'msg_type': u'execute_request', 'parent_header': {}}\n    229             except Exception:\n    230                 self.log.error(\"Exception in message handler:\", exc_info=True)\n    231             finally:\n    232                 self.post_handler_hook()\n\n...........................................................................\n/data/wbbruin/anaconda2/lib/python2.7/site-packages/ipykernel/kernelbase.py in execute_request(self=<ipykernel.ipkernel.IPythonKernel object>, stream=<zmq.eventloop.zmqstream.ZMQStream object>, ident=['3FEEF7D8BDEA4728BC528CD55A1C7C9D'], parent={'buffers': [], 'content': {u'allow_stdin': True, u'code': u\"def inner_loop_iteration(data, n, rate, perp, ...onents)))\\n\\nprint kl_div.min(), kl_div.argmin()\", u'silent': False, u'stop_on_error': True, u'store_history': True, u'user_expressions': {}}, 'header': {'date': '2016-11-07T15:57:09.984170', u'msg_id': u'0656BF97F87E42638B45C05003C1D3ED', u'msg_type': u'execute_request', u'session': u'3FEEF7D8BDEA4728BC528CD55A1C7C9D', u'username': u'username', u'version': u'5.0'}, 'metadata': {}, 'msg_id': u'0656BF97F87E42638B45C05003C1D3ED', 'msg_type': u'execute_request', 'parent_header': {}})\n    385         if not silent:\n    386             self.execution_count += 1\n    387             self._publish_execute_input(code, parent, self.execution_count)\n    388 \n    389         reply_content = self.do_execute(code, silent, store_history,\n--> 390                                         user_expressions, allow_stdin)\n        user_expressions = {}\n        allow_stdin = True\n    391 \n    392         # Flush output before sending the reply.\n    393         sys.stdout.flush()\n    394         sys.stderr.flush()\n\n...........................................................................\n/data/wbbruin/anaconda2/lib/python2.7/site-packages/ipykernel/ipkernel.py in do_execute(self=<ipykernel.ipkernel.IPythonKernel object>, code=u\"def inner_loop_iteration(data, n, rate, perp, ...onents)))\\n\\nprint kl_div.min(), kl_div.argmin()\", silent=False, store_history=True, user_expressions={}, allow_stdin=True)\n    191 \n    192         self._forward_input(allow_stdin)\n    193 \n    194         reply_content = {}\n    195         try:\n--> 196             res = shell.run_cell(code, store_history=store_history, silent=silent)\n        res = undefined\n        shell.run_cell = <bound method ZMQInteractiveShell.run_cell of <ipykernel.zmqshell.ZMQInteractiveShell object>>\n        code = u\"def inner_loop_iteration(data, n, rate, perp, ...onents)))\\n\\nprint kl_div.min(), kl_div.argmin()\"\n        store_history = True\n        silent = False\n    197         finally:\n    198             self._restore_input()\n    199 \n    200         if res.error_before_exec is not None:\n\n...........................................................................\n/data/wbbruin/anaconda2/lib/python2.7/site-packages/ipykernel/zmqshell.py in run_cell(self=<ipykernel.zmqshell.ZMQInteractiveShell object>, *args=(u\"def inner_loop_iteration(data, n, rate, perp, ...onents)))\\n\\nprint kl_div.min(), kl_div.argmin()\",), **kwargs={'silent': False, 'store_history': True})\n    496             )\n    497         self.payload_manager.write_payload(payload)\n    498 \n    499     def run_cell(self, *args, **kwargs):\n    500         self._last_traceback = None\n--> 501         return super(ZMQInteractiveShell, self).run_cell(*args, **kwargs)\n        self.run_cell = <bound method ZMQInteractiveShell.run_cell of <ipykernel.zmqshell.ZMQInteractiveShell object>>\n        args = (u\"def inner_loop_iteration(data, n, rate, perp, ...onents)))\\n\\nprint kl_div.min(), kl_div.argmin()\",)\n        kwargs = {'silent': False, 'store_history': True}\n    502 \n    503     def _showtraceback(self, etype, evalue, stb):\n    504         # try to preserve ordering of tracebacks and print statements\n    505         sys.stdout.flush()\n\n...........................................................................\n/data/wbbruin/anaconda2/lib/python2.7/site-packages/IPython/core/interactiveshell.py in run_cell(self=<ipykernel.zmqshell.ZMQInteractiveShell object>, raw_cell=u\"def inner_loop_iteration(data, n, rate, perp, ...onents)))\\n\\nprint kl_div.min(), kl_div.argmin()\", store_history=True, silent=False, shell_futures=True)\n   2712                 self.displayhook.exec_result = result\n   2713 \n   2714                 # Execute the user code\n   2715                 interactivity = \"none\" if silent else self.ast_node_interactivity\n   2716                 has_raised = self.run_ast_nodes(code_ast.body, cell_name,\n-> 2717                    interactivity=interactivity, compiler=compiler, result=result)\n        interactivity = 'last_expr'\n        compiler = <IPython.core.compilerop.CachingCompiler instance>\n   2718                 \n   2719                 self.last_execution_succeeded = not has_raised\n   2720 \n   2721                 # Reset this so later displayed values do not modify the\n\n...........................................................................\n/data/wbbruin/anaconda2/lib/python2.7/site-packages/IPython/core/interactiveshell.py in run_ast_nodes(self=<ipykernel.zmqshell.ZMQInteractiveShell object>, nodelist=[<_ast.FunctionDef object>, <_ast.Expr object>, <_ast.Print object>], cell_name='<ipython-input-11-60fe194e498e>', interactivity='none', compiler=<IPython.core.compilerop.CachingCompiler instance>, result=<ExecutionResult object at 7f6716a15410, executi..._before_exec=None error_in_exec=None result=None>)\n   2816 \n   2817         try:\n   2818             for i, node in enumerate(to_run_exec):\n   2819                 mod = ast.Module([node])\n   2820                 code = compiler(mod, cell_name, \"exec\")\n-> 2821                 if self.run_code(code, result):\n        self.run_code = <bound method ZMQInteractiveShell.run_code of <ipykernel.zmqshell.ZMQInteractiveShell object>>\n        code = <code object <module> at 0x7f67173cf6b0, file \"<ipython-input-11-60fe194e498e>\", line 10>\n        result = <ExecutionResult object at 7f6716a15410, executi..._before_exec=None error_in_exec=None result=None>\n   2822                     return True\n   2823 \n   2824             for i, node in enumerate(to_run_interactive):\n   2825                 mod = ast.Interactive([node])\n\n...........................................................................\n/data/wbbruin/anaconda2/lib/python2.7/site-packages/IPython/core/interactiveshell.py in run_code(self=<ipykernel.zmqshell.ZMQInteractiveShell object>, code_obj=<code object <module> at 0x7f67173cf6b0, file \"<ipython-input-11-60fe194e498e>\", line 10>, result=<ExecutionResult object at 7f6716a15410, executi..._before_exec=None error_in_exec=None result=None>)\n   2876         outflag = 1  # happens in more places, so it's easier as default\n   2877         try:\n   2878             try:\n   2879                 self.hooks.pre_run_code_hook()\n   2880                 #rprint('Running code', repr(code_obj)) # dbg\n-> 2881                 exec(code_obj, self.user_global_ns, self.user_ns)\n        code_obj = <code object <module> at 0x7f67173cf6b0, file \"<ipython-input-11-60fe194e498e>\", line 10>\n        self.user_global_ns = {'FOLDER_DATA': '/data/shared/bvFTD/Machine_Learning/data', 'In': ['', u\"get_ipython().magic(u'matplotlib inline')\\nimp...port pandas as pd\\nfrom itertools import product\", u'# masks zeros out\\nid_zeros = np.all(X == 0, axis=0)\\nX = X[:, ~id_zeros]', u\"FOLDER_DATA = '/data/shared/bvFTD/Machine_Lear...rix()\\nid_psych = group_labels.psych.as_matrix()\", u'# masks zeros out\\nid_zeros = np.all(X == 0, axis=0)\\nX = X[:, ~id_zeros]', u\"def make_scatter(data):\\n    colors = ['r', 'g...lt.legend(['FTD', 'Neurological', 'Psychiatry'])\", u'pca = PCA(n_components=500)\\nX_pca = pca.fit_transform(X)', u'scaler = StandardScaler()\\nX_pca_scl = scaler.fit_transform(X_pca)', u\"tsne = TSNE(n_components=3, learning_rate=200,... verbose=1, method='exact')\\ntsne.fit(X_pca_scl)\", u'learn_rate = np.linspace(100, 1000, 50)\\nperplexity = np.arange(1, 51)', u'learn_rate = np.linspace(100, 1000, 200)\\nperp... perplexity.size * n_components, dtype=np.float)', u\"def inner_loop_iteration(data, n, rate, perp, ...onents)))\\n\\nprint kl_div.min(), kl_div.argmin()\"], 'Out': {8: TSNE(angle=0.5, early_exaggeration=4.0, init='pc..., perplexity=10,\n   random_state=None, verbose=1)}, 'PCA': <class 'sklearn.decomposition.pca.PCA'>, 'Parallel': <class 'joblib.parallel.Parallel'>, 'StandardScaler': <class 'sklearn.preprocessing.data.StandardScaler'>, 'TSNE': <class 'sklearn.manifold.t_sne.TSNE'>, 'X': array([[ 0.,  0.,  0., ...,  0.,  0.,  0.],\n    ...0.],\n       [ 0.,  0.,  0., ...,  0.,  0.,  0.]]), 'X_pca': array([[ -5.17735617e+00,  -9.35697411e+00,  -1....743347e+00,  -4.79691295e-01,   7.70861532e-14]]), 'X_pca_scl': array([[-0.17633075, -0.64203664, -0.91794796, .... -0.36828648,\n        -0.16788246, -0.20037838]]), ...}\n        self.user_ns = {'FOLDER_DATA': '/data/shared/bvFTD/Machine_Learning/data', 'In': ['', u\"get_ipython().magic(u'matplotlib inline')\\nimp...port pandas as pd\\nfrom itertools import product\", u'# masks zeros out\\nid_zeros = np.all(X == 0, axis=0)\\nX = X[:, ~id_zeros]', u\"FOLDER_DATA = '/data/shared/bvFTD/Machine_Lear...rix()\\nid_psych = group_labels.psych.as_matrix()\", u'# masks zeros out\\nid_zeros = np.all(X == 0, axis=0)\\nX = X[:, ~id_zeros]', u\"def make_scatter(data):\\n    colors = ['r', 'g...lt.legend(['FTD', 'Neurological', 'Psychiatry'])\", u'pca = PCA(n_components=500)\\nX_pca = pca.fit_transform(X)', u'scaler = StandardScaler()\\nX_pca_scl = scaler.fit_transform(X_pca)', u\"tsne = TSNE(n_components=3, learning_rate=200,... verbose=1, method='exact')\\ntsne.fit(X_pca_scl)\", u'learn_rate = np.linspace(100, 1000, 50)\\nperplexity = np.arange(1, 51)', u'learn_rate = np.linspace(100, 1000, 200)\\nperp... perplexity.size * n_components, dtype=np.float)', u\"def inner_loop_iteration(data, n, rate, perp, ...onents)))\\n\\nprint kl_div.min(), kl_div.argmin()\"], 'Out': {8: TSNE(angle=0.5, early_exaggeration=4.0, init='pc..., perplexity=10,\n   random_state=None, verbose=1)}, 'PCA': <class 'sklearn.decomposition.pca.PCA'>, 'Parallel': <class 'joblib.parallel.Parallel'>, 'StandardScaler': <class 'sklearn.preprocessing.data.StandardScaler'>, 'TSNE': <class 'sklearn.manifold.t_sne.TSNE'>, 'X': array([[ 0.,  0.,  0., ...,  0.,  0.,  0.],\n    ...0.],\n       [ 0.,  0.,  0., ...,  0.,  0.,  0.]]), 'X_pca': array([[ -5.17735617e+00,  -9.35697411e+00,  -1....743347e+00,  -4.79691295e-01,   7.70861532e-14]]), 'X_pca_scl': array([[-0.17633075, -0.64203664, -0.91794796, .... -0.36828648,\n        -0.16788246, -0.20037838]]), ...}\n   2882             finally:\n   2883                 # Reset our crash handler in place\n   2884                 sys.excepthook = old_excepthook\n   2885         except SystemExit as e:\n\n...........................................................................\n/data/shared/bvFTD/Machine_Learning/Scripts/<ipython-input-11-60fe194e498e> in <module>()\n      6     kl_div[i] = tsne.kl_divergence_\n      7     embedings[n][..., i] = tsne.embedding_\n      8     return tsne.kl_divergence, tsne.embedding_\n      9 \n     10 Parallel(n_jobs=n_jobs, verbose=1)(delayed(inner_loop_iteration)(n, rate, perp, i)\n---> 11                                    for i, (rate, perp, n) in enumerate(product(learn_rate, perplexity, n_components)))\n     12 \n     13 print kl_div.min(), kl_div.argmin()\n     14 \n     15 \n\n...........................................................................\n/data/wbbruin/anaconda2/lib/python2.7/site-packages/joblib/parallel.py in __call__(self=Parallel(n_jobs=10), iterable=<generator object <genexpr>>)\n    763             if pre_dispatch == \"all\" or n_jobs == 1:\n    764                 # The iterable was consumed all at once by the above for loop.\n    765                 # No need to wait for async callbacks to trigger to\n    766                 # consumption.\n    767                 self._iterating = False\n--> 768             self.retrieve()\n        self.retrieve = <bound method Parallel.retrieve of Parallel(n_jobs=10)>\n    769             # Make sure that we get a last message telling us we are done\n    770             elapsed_time = time.time() - self._start_time\n    771             self._print('Done %3i out of %3i | elapsed: %s finished',\n    772                         (len(self._output), len(self._output),\n\n---------------------------------------------------------------------------\nSub-process traceback:\n---------------------------------------------------------------------------\nTypeError                                          Mon Nov  7 15:57:10 2016\nPID: 18582                Python 2.7.12: /data/wbbruin/anaconda2/bin/python\n...........................................................................\n/data/wbbruin/anaconda2/lib/python2.7/site-packages/joblib/parallel.py in __call__(self=<joblib.parallel.BatchedCalls object>)\n    126     def __init__(self, iterator_slice):\n    127         self.items = list(iterator_slice)\n    128         self._size = len(self.items)\n    129 \n    130     def __call__(self):\n--> 131         return [func(*args, **kwargs) for func, args, kwargs in self.items]\n        func = <function inner_loop_iteration>\n        args = (2, 100.0, 1, 0)\n        kwargs = {}\n        self.items = [(<function inner_loop_iteration>, (2, 100.0, 1, 0), {})]\n    132 \n    133     def __len__(self):\n    134         return self._size\n    135 \n\nTypeError: inner_loop_iteration() takes exactly 5 arguments (4 given)\n___________________________________________________________________________",
     "output_type": "error",
     "traceback": [
      "\u001b[0;31m---------------------------------------------------------------------------\u001b[0m",
      "\u001b[0;31mJoblibTypeError\u001b[0m                           Traceback (most recent call last)",
      "\u001b[0;32m<ipython-input-11-60fe194e498e>\u001b[0m in \u001b[0;36m<module>\u001b[0;34m()\u001b[0m\n\u001b[1;32m      9\u001b[0m \u001b[0;34m\u001b[0m\u001b[0m\n\u001b[1;32m     10\u001b[0m Parallel(n_jobs=n_jobs, verbose=1)(delayed(inner_loop_iteration)(n, rate, perp, i)\n\u001b[0;32m---> 11\u001b[0;31m                                    for i, (rate, perp, n) in enumerate(product(learn_rate, perplexity, n_components)))\n\u001b[0m\u001b[1;32m     12\u001b[0m \u001b[0;34m\u001b[0m\u001b[0m\n\u001b[1;32m     13\u001b[0m \u001b[0;32mprint\u001b[0m \u001b[0mkl_div\u001b[0m\u001b[0;34m.\u001b[0m\u001b[0mmin\u001b[0m\u001b[0;34m(\u001b[0m\u001b[0;34m)\u001b[0m\u001b[0;34m,\u001b[0m \u001b[0mkl_div\u001b[0m\u001b[0;34m.\u001b[0m\u001b[0margmin\u001b[0m\u001b[0;34m(\u001b[0m\u001b[0;34m)\u001b[0m\u001b[0;34m\u001b[0m\u001b[0m\n",
      "\u001b[0;32m/data/wbbruin/anaconda2/lib/python2.7/site-packages/joblib/parallel.pyc\u001b[0m in \u001b[0;36m__call__\u001b[0;34m(self, iterable)\u001b[0m\n\u001b[1;32m    766\u001b[0m                 \u001b[0;31m# consumption.\u001b[0m\u001b[0;34m\u001b[0m\u001b[0;34m\u001b[0m\u001b[0m\n\u001b[1;32m    767\u001b[0m                 \u001b[0mself\u001b[0m\u001b[0;34m.\u001b[0m\u001b[0m_iterating\u001b[0m \u001b[0;34m=\u001b[0m \u001b[0mFalse\u001b[0m\u001b[0;34m\u001b[0m\u001b[0m\n\u001b[0;32m--> 768\u001b[0;31m             \u001b[0mself\u001b[0m\u001b[0;34m.\u001b[0m\u001b[0mretrieve\u001b[0m\u001b[0;34m(\u001b[0m\u001b[0;34m)\u001b[0m\u001b[0;34m\u001b[0m\u001b[0m\n\u001b[0m\u001b[1;32m    769\u001b[0m             \u001b[0;31m# Make sure that we get a last message telling us we are done\u001b[0m\u001b[0;34m\u001b[0m\u001b[0;34m\u001b[0m\u001b[0m\n\u001b[1;32m    770\u001b[0m             \u001b[0melapsed_time\u001b[0m \u001b[0;34m=\u001b[0m \u001b[0mtime\u001b[0m\u001b[0;34m.\u001b[0m\u001b[0mtime\u001b[0m\u001b[0;34m(\u001b[0m\u001b[0;34m)\u001b[0m \u001b[0;34m-\u001b[0m \u001b[0mself\u001b[0m\u001b[0;34m.\u001b[0m\u001b[0m_start_time\u001b[0m\u001b[0;34m\u001b[0m\u001b[0m\n",
      "\u001b[0;32m/data/wbbruin/anaconda2/lib/python2.7/site-packages/joblib/parallel.pyc\u001b[0m in \u001b[0;36mretrieve\u001b[0;34m(self)\u001b[0m\n\u001b[1;32m    717\u001b[0m                     \u001b[0mensure_ready\u001b[0m \u001b[0;34m=\u001b[0m \u001b[0mself\u001b[0m\u001b[0;34m.\u001b[0m\u001b[0m_managed_backend\u001b[0m\u001b[0;34m\u001b[0m\u001b[0m\n\u001b[1;32m    718\u001b[0m                     \u001b[0mbackend\u001b[0m\u001b[0;34m.\u001b[0m\u001b[0mabort_everything\u001b[0m\u001b[0;34m(\u001b[0m\u001b[0mensure_ready\u001b[0m\u001b[0;34m=\u001b[0m\u001b[0mensure_ready\u001b[0m\u001b[0;34m)\u001b[0m\u001b[0;34m\u001b[0m\u001b[0m\n\u001b[0;32m--> 719\u001b[0;31m                 \u001b[0;32mraise\u001b[0m \u001b[0mexception\u001b[0m\u001b[0;34m\u001b[0m\u001b[0m\n\u001b[0m\u001b[1;32m    720\u001b[0m \u001b[0;34m\u001b[0m\u001b[0m\n\u001b[1;32m    721\u001b[0m     \u001b[0;32mdef\u001b[0m \u001b[0m__call__\u001b[0m\u001b[0;34m(\u001b[0m\u001b[0mself\u001b[0m\u001b[0;34m,\u001b[0m \u001b[0miterable\u001b[0m\u001b[0;34m)\u001b[0m\u001b[0;34m:\u001b[0m\u001b[0;34m\u001b[0m\u001b[0m\n",
      "\u001b[0;31mJoblibTypeError\u001b[0m: JoblibTypeError\n___________________________________________________________________________\nMultiprocessing exception:\n...........................................................................\n/data/wbbruin/anaconda2/lib/python2.7/runpy.py in _run_module_as_main(mod_name='ipykernel.__main__', alter_argv=1)\n    169     pkg_name = mod_name.rpartition('.')[0]\n    170     main_globals = sys.modules[\"__main__\"].__dict__\n    171     if alter_argv:\n    172         sys.argv[0] = fname\n    173     return _run_code(code, main_globals, None,\n--> 174                      \"__main__\", fname, loader, pkg_name)\n        fname = '/data/wbbruin/anaconda2/lib/python2.7/site-packages/ipykernel/__main__.py'\n        loader = <pkgutil.ImpLoader instance>\n        pkg_name = 'ipykernel'\n    175 \n    176 def run_module(mod_name, init_globals=None,\n    177                run_name=None, alter_sys=False):\n    178     \"\"\"Execute a module's code without importing it\n\n...........................................................................\n/data/wbbruin/anaconda2/lib/python2.7/runpy.py in _run_code(code=<code object <module> at 0x7f675ecdf130, file \"/...2.7/site-packages/ipykernel/__main__.py\", line 1>, run_globals={'__builtins__': <module '__builtin__' (built-in)>, '__doc__': None, '__file__': '/data/wbbruin/anaconda2/lib/python2.7/site-packages/ipykernel/__main__.py', '__loader__': <pkgutil.ImpLoader instance>, '__name__': '__main__', '__package__': 'ipykernel', 'app': <module 'ipykernel.kernelapp' from '/data/wbbrui...python2.7/site-packages/ipykernel/kernelapp.pyc'>}, init_globals=None, mod_name='__main__', mod_fname='/data/wbbruin/anaconda2/lib/python2.7/site-packages/ipykernel/__main__.py', mod_loader=<pkgutil.ImpLoader instance>, pkg_name='ipykernel')\n     67         run_globals.update(init_globals)\n     68     run_globals.update(__name__ = mod_name,\n     69                        __file__ = mod_fname,\n     70                        __loader__ = mod_loader,\n     71                        __package__ = pkg_name)\n---> 72     exec code in run_globals\n        code = <code object <module> at 0x7f675ecdf130, file \"/...2.7/site-packages/ipykernel/__main__.py\", line 1>\n        run_globals = {'__builtins__': <module '__builtin__' (built-in)>, '__doc__': None, '__file__': '/data/wbbruin/anaconda2/lib/python2.7/site-packages/ipykernel/__main__.py', '__loader__': <pkgutil.ImpLoader instance>, '__name__': '__main__', '__package__': 'ipykernel', 'app': <module 'ipykernel.kernelapp' from '/data/wbbrui...python2.7/site-packages/ipykernel/kernelapp.pyc'>}\n     73     return run_globals\n     74 \n     75 def _run_module_code(code, init_globals=None,\n     76                     mod_name=None, mod_fname=None,\n\n...........................................................................\n/data/wbbruin/anaconda2/lib/python2.7/site-packages/ipykernel/__main__.py in <module>()\n      1 \n      2 \n----> 3 \n      4 if __name__ == '__main__':\n      5     from ipykernel import kernelapp as app\n      6     app.launch_new_instance()\n      7 \n      8 \n      9 \n     10 \n\n...........................................................................\n/data/wbbruin/anaconda2/lib/python2.7/site-packages/traitlets/config/application.py in launch_instance(cls=<class 'ipykernel.kernelapp.IPKernelApp'>, argv=None, **kwargs={})\n    648 \n    649         If a global instance already exists, this reinitializes and starts it\n    650         \"\"\"\n    651         app = cls.instance(**kwargs)\n    652         app.initialize(argv)\n--> 653         app.start()\n        app.start = <bound method IPKernelApp.start of <ipykernel.kernelapp.IPKernelApp object>>\n    654 \n    655 #-----------------------------------------------------------------------------\n    656 # utility functions, for convenience\n    657 #-----------------------------------------------------------------------------\n\n...........................................................................\n/data/wbbruin/anaconda2/lib/python2.7/site-packages/ipykernel/kernelapp.py in start(self=<ipykernel.kernelapp.IPKernelApp object>)\n    469             return self.subapp.start()\n    470         if self.poller is not None:\n    471             self.poller.start()\n    472         self.kernel.start()\n    473         try:\n--> 474             ioloop.IOLoop.instance().start()\n    475         except KeyboardInterrupt:\n    476             pass\n    477 \n    478 launch_new_instance = IPKernelApp.launch_instance\n\n...........................................................................\n/data/wbbruin/anaconda2/lib/python2.7/site-packages/zmq/eventloop/ioloop.py in start(self=<zmq.eventloop.ioloop.ZMQIOLoop object>)\n    157             PollIOLoop.configure(ZMQIOLoop)\n    158         return PollIOLoop.current(*args, **kwargs)\n    159     \n    160     def start(self):\n    161         try:\n--> 162             super(ZMQIOLoop, self).start()\n        self.start = <bound method ZMQIOLoop.start of <zmq.eventloop.ioloop.ZMQIOLoop object>>\n    163         except ZMQError as e:\n    164             if e.errno == ETERM:\n    165                 # quietly return on ETERM\n    166                 pass\n\n...........................................................................\n/data/wbbruin/anaconda2/lib/python2.7/site-packages/tornado/ioloop.py in start(self=<zmq.eventloop.ioloop.ZMQIOLoop object>)\n    882                 self._events.update(event_pairs)\n    883                 while self._events:\n    884                     fd, events = self._events.popitem()\n    885                     try:\n    886                         fd_obj, handler_func = self._handlers[fd]\n--> 887                         handler_func(fd_obj, events)\n        handler_func = <function null_wrapper>\n        fd_obj = <zmq.sugar.socket.Socket object>\n        events = 5\n    888                     except (OSError, IOError) as e:\n    889                         if errno_from_exception(e) == errno.EPIPE:\n    890                             # Happens when the client closes the connection\n    891                             pass\n\n...........................................................................\n/data/wbbruin/anaconda2/lib/python2.7/site-packages/tornado/stack_context.py in null_wrapper(*args=(<zmq.sugar.socket.Socket object>, 5), **kwargs={})\n    270         # Fast path when there are no active contexts.\n    271         def null_wrapper(*args, **kwargs):\n    272             try:\n    273                 current_state = _state.contexts\n    274                 _state.contexts = cap_contexts[0]\n--> 275                 return fn(*args, **kwargs)\n        args = (<zmq.sugar.socket.Socket object>, 5)\n        kwargs = {}\n    276             finally:\n    277                 _state.contexts = current_state\n    278         null_wrapper._wrapped = True\n    279         return null_wrapper\n\n...........................................................................\n/data/wbbruin/anaconda2/lib/python2.7/site-packages/zmq/eventloop/zmqstream.py in _handle_events(self=<zmq.eventloop.zmqstream.ZMQStream object>, fd=<zmq.sugar.socket.Socket object>, events=5)\n    435             # dispatch events:\n    436             if events & IOLoop.ERROR:\n    437                 gen_log.error(\"got POLLERR event on ZMQStream, which doesn't make sense\")\n    438                 return\n    439             if events & IOLoop.READ:\n--> 440                 self._handle_recv()\n        self._handle_recv = <bound method ZMQStream._handle_recv of <zmq.eventloop.zmqstream.ZMQStream object>>\n    441                 if not self.socket:\n    442                     return\n    443             if events & IOLoop.WRITE:\n    444                 self._handle_send()\n\n...........................................................................\n/data/wbbruin/anaconda2/lib/python2.7/site-packages/zmq/eventloop/zmqstream.py in _handle_recv(self=<zmq.eventloop.zmqstream.ZMQStream object>)\n    467                 gen_log.error(\"RECV Error: %s\"%zmq.strerror(e.errno))\n    468         else:\n    469             if self._recv_callback:\n    470                 callback = self._recv_callback\n    471                 # self._recv_callback = None\n--> 472                 self._run_callback(callback, msg)\n        self._run_callback = <bound method ZMQStream._run_callback of <zmq.eventloop.zmqstream.ZMQStream object>>\n        callback = <function null_wrapper>\n        msg = [<zmq.sugar.frame.Frame object>, <zmq.sugar.frame.Frame object>, <zmq.sugar.frame.Frame object>, <zmq.sugar.frame.Frame object>, <zmq.sugar.frame.Frame object>, <zmq.sugar.frame.Frame object>, <zmq.sugar.frame.Frame object>]\n    473                 \n    474         # self.update_state()\n    475         \n    476 \n\n...........................................................................\n/data/wbbruin/anaconda2/lib/python2.7/site-packages/zmq/eventloop/zmqstream.py in _run_callback(self=<zmq.eventloop.zmqstream.ZMQStream object>, callback=<function null_wrapper>, *args=([<zmq.sugar.frame.Frame object>, <zmq.sugar.frame.Frame object>, <zmq.sugar.frame.Frame object>, <zmq.sugar.frame.Frame object>, <zmq.sugar.frame.Frame object>, <zmq.sugar.frame.Frame object>, <zmq.sugar.frame.Frame object>],), **kwargs={})\n    409         close our socket.\"\"\"\n    410         try:\n    411             # Use a NullContext to ensure that all StackContexts are run\n    412             # inside our blanket exception handler rather than outside.\n    413             with stack_context.NullContext():\n--> 414                 callback(*args, **kwargs)\n        callback = <function null_wrapper>\n        args = ([<zmq.sugar.frame.Frame object>, <zmq.sugar.frame.Frame object>, <zmq.sugar.frame.Frame object>, <zmq.sugar.frame.Frame object>, <zmq.sugar.frame.Frame object>, <zmq.sugar.frame.Frame object>, <zmq.sugar.frame.Frame object>],)\n        kwargs = {}\n    415         except:\n    416             gen_log.error(\"Uncaught exception, closing connection.\",\n    417                           exc_info=True)\n    418             # Close the socket on an uncaught exception from a user callback\n\n...........................................................................\n/data/wbbruin/anaconda2/lib/python2.7/site-packages/tornado/stack_context.py in null_wrapper(*args=([<zmq.sugar.frame.Frame object>, <zmq.sugar.frame.Frame object>, <zmq.sugar.frame.Frame object>, <zmq.sugar.frame.Frame object>, <zmq.sugar.frame.Frame object>, <zmq.sugar.frame.Frame object>, <zmq.sugar.frame.Frame object>],), **kwargs={})\n    270         # Fast path when there are no active contexts.\n    271         def null_wrapper(*args, **kwargs):\n    272             try:\n    273                 current_state = _state.contexts\n    274                 _state.contexts = cap_contexts[0]\n--> 275                 return fn(*args, **kwargs)\n        args = ([<zmq.sugar.frame.Frame object>, <zmq.sugar.frame.Frame object>, <zmq.sugar.frame.Frame object>, <zmq.sugar.frame.Frame object>, <zmq.sugar.frame.Frame object>, <zmq.sugar.frame.Frame object>, <zmq.sugar.frame.Frame object>],)\n        kwargs = {}\n    276             finally:\n    277                 _state.contexts = current_state\n    278         null_wrapper._wrapped = True\n    279         return null_wrapper\n\n...........................................................................\n/data/wbbruin/anaconda2/lib/python2.7/site-packages/ipykernel/kernelbase.py in dispatcher(msg=[<zmq.sugar.frame.Frame object>, <zmq.sugar.frame.Frame object>, <zmq.sugar.frame.Frame object>, <zmq.sugar.frame.Frame object>, <zmq.sugar.frame.Frame object>, <zmq.sugar.frame.Frame object>, <zmq.sugar.frame.Frame object>])\n    271         if self.control_stream:\n    272             self.control_stream.on_recv(self.dispatch_control, copy=False)\n    273 \n    274         def make_dispatcher(stream):\n    275             def dispatcher(msg):\n--> 276                 return self.dispatch_shell(stream, msg)\n        msg = [<zmq.sugar.frame.Frame object>, <zmq.sugar.frame.Frame object>, <zmq.sugar.frame.Frame object>, <zmq.sugar.frame.Frame object>, <zmq.sugar.frame.Frame object>, <zmq.sugar.frame.Frame object>, <zmq.sugar.frame.Frame object>]\n    277             return dispatcher\n    278 \n    279         for s in self.shell_streams:\n    280             s.on_recv(make_dispatcher(s), copy=False)\n\n...........................................................................\n/data/wbbruin/anaconda2/lib/python2.7/site-packages/ipykernel/kernelbase.py in dispatch_shell(self=<ipykernel.ipkernel.IPythonKernel object>, stream=<zmq.eventloop.zmqstream.ZMQStream object>, msg={'buffers': [], 'content': {u'allow_stdin': True, u'code': u\"def inner_loop_iteration(data, n, rate, perp, ...onents)))\\n\\nprint kl_div.min(), kl_div.argmin()\", u'silent': False, u'stop_on_error': True, u'store_history': True, u'user_expressions': {}}, 'header': {'date': '2016-11-07T15:57:09.984170', u'msg_id': u'0656BF97F87E42638B45C05003C1D3ED', u'msg_type': u'execute_request', u'session': u'3FEEF7D8BDEA4728BC528CD55A1C7C9D', u'username': u'username', u'version': u'5.0'}, 'metadata': {}, 'msg_id': u'0656BF97F87E42638B45C05003C1D3ED', 'msg_type': u'execute_request', 'parent_header': {}})\n    223             self.log.error(\"UNKNOWN MESSAGE TYPE: %r\", msg_type)\n    224         else:\n    225             self.log.debug(\"%s: %s\", msg_type, msg)\n    226             self.pre_handler_hook()\n    227             try:\n--> 228                 handler(stream, idents, msg)\n        handler = <bound method IPythonKernel.execute_request of <ipykernel.ipkernel.IPythonKernel object>>\n        stream = <zmq.eventloop.zmqstream.ZMQStream object>\n        idents = ['3FEEF7D8BDEA4728BC528CD55A1C7C9D']\n        msg = {'buffers': [], 'content': {u'allow_stdin': True, u'code': u\"def inner_loop_iteration(data, n, rate, perp, ...onents)))\\n\\nprint kl_div.min(), kl_div.argmin()\", u'silent': False, u'stop_on_error': True, u'store_history': True, u'user_expressions': {}}, 'header': {'date': '2016-11-07T15:57:09.984170', u'msg_id': u'0656BF97F87E42638B45C05003C1D3ED', u'msg_type': u'execute_request', u'session': u'3FEEF7D8BDEA4728BC528CD55A1C7C9D', u'username': u'username', u'version': u'5.0'}, 'metadata': {}, 'msg_id': u'0656BF97F87E42638B45C05003C1D3ED', 'msg_type': u'execute_request', 'parent_header': {}}\n    229             except Exception:\n    230                 self.log.error(\"Exception in message handler:\", exc_info=True)\n    231             finally:\n    232                 self.post_handler_hook()\n\n...........................................................................\n/data/wbbruin/anaconda2/lib/python2.7/site-packages/ipykernel/kernelbase.py in execute_request(self=<ipykernel.ipkernel.IPythonKernel object>, stream=<zmq.eventloop.zmqstream.ZMQStream object>, ident=['3FEEF7D8BDEA4728BC528CD55A1C7C9D'], parent={'buffers': [], 'content': {u'allow_stdin': True, u'code': u\"def inner_loop_iteration(data, n, rate, perp, ...onents)))\\n\\nprint kl_div.min(), kl_div.argmin()\", u'silent': False, u'stop_on_error': True, u'store_history': True, u'user_expressions': {}}, 'header': {'date': '2016-11-07T15:57:09.984170', u'msg_id': u'0656BF97F87E42638B45C05003C1D3ED', u'msg_type': u'execute_request', u'session': u'3FEEF7D8BDEA4728BC528CD55A1C7C9D', u'username': u'username', u'version': u'5.0'}, 'metadata': {}, 'msg_id': u'0656BF97F87E42638B45C05003C1D3ED', 'msg_type': u'execute_request', 'parent_header': {}})\n    385         if not silent:\n    386             self.execution_count += 1\n    387             self._publish_execute_input(code, parent, self.execution_count)\n    388 \n    389         reply_content = self.do_execute(code, silent, store_history,\n--> 390                                         user_expressions, allow_stdin)\n        user_expressions = {}\n        allow_stdin = True\n    391 \n    392         # Flush output before sending the reply.\n    393         sys.stdout.flush()\n    394         sys.stderr.flush()\n\n...........................................................................\n/data/wbbruin/anaconda2/lib/python2.7/site-packages/ipykernel/ipkernel.py in do_execute(self=<ipykernel.ipkernel.IPythonKernel object>, code=u\"def inner_loop_iteration(data, n, rate, perp, ...onents)))\\n\\nprint kl_div.min(), kl_div.argmin()\", silent=False, store_history=True, user_expressions={}, allow_stdin=True)\n    191 \n    192         self._forward_input(allow_stdin)\n    193 \n    194         reply_content = {}\n    195         try:\n--> 196             res = shell.run_cell(code, store_history=store_history, silent=silent)\n        res = undefined\n        shell.run_cell = <bound method ZMQInteractiveShell.run_cell of <ipykernel.zmqshell.ZMQInteractiveShell object>>\n        code = u\"def inner_loop_iteration(data, n, rate, perp, ...onents)))\\n\\nprint kl_div.min(), kl_div.argmin()\"\n        store_history = True\n        silent = False\n    197         finally:\n    198             self._restore_input()\n    199 \n    200         if res.error_before_exec is not None:\n\n...........................................................................\n/data/wbbruin/anaconda2/lib/python2.7/site-packages/ipykernel/zmqshell.py in run_cell(self=<ipykernel.zmqshell.ZMQInteractiveShell object>, *args=(u\"def inner_loop_iteration(data, n, rate, perp, ...onents)))\\n\\nprint kl_div.min(), kl_div.argmin()\",), **kwargs={'silent': False, 'store_history': True})\n    496             )\n    497         self.payload_manager.write_payload(payload)\n    498 \n    499     def run_cell(self, *args, **kwargs):\n    500         self._last_traceback = None\n--> 501         return super(ZMQInteractiveShell, self).run_cell(*args, **kwargs)\n        self.run_cell = <bound method ZMQInteractiveShell.run_cell of <ipykernel.zmqshell.ZMQInteractiveShell object>>\n        args = (u\"def inner_loop_iteration(data, n, rate, perp, ...onents)))\\n\\nprint kl_div.min(), kl_div.argmin()\",)\n        kwargs = {'silent': False, 'store_history': True}\n    502 \n    503     def _showtraceback(self, etype, evalue, stb):\n    504         # try to preserve ordering of tracebacks and print statements\n    505         sys.stdout.flush()\n\n...........................................................................\n/data/wbbruin/anaconda2/lib/python2.7/site-packages/IPython/core/interactiveshell.py in run_cell(self=<ipykernel.zmqshell.ZMQInteractiveShell object>, raw_cell=u\"def inner_loop_iteration(data, n, rate, perp, ...onents)))\\n\\nprint kl_div.min(), kl_div.argmin()\", store_history=True, silent=False, shell_futures=True)\n   2712                 self.displayhook.exec_result = result\n   2713 \n   2714                 # Execute the user code\n   2715                 interactivity = \"none\" if silent else self.ast_node_interactivity\n   2716                 has_raised = self.run_ast_nodes(code_ast.body, cell_name,\n-> 2717                    interactivity=interactivity, compiler=compiler, result=result)\n        interactivity = 'last_expr'\n        compiler = <IPython.core.compilerop.CachingCompiler instance>\n   2718                 \n   2719                 self.last_execution_succeeded = not has_raised\n   2720 \n   2721                 # Reset this so later displayed values do not modify the\n\n...........................................................................\n/data/wbbruin/anaconda2/lib/python2.7/site-packages/IPython/core/interactiveshell.py in run_ast_nodes(self=<ipykernel.zmqshell.ZMQInteractiveShell object>, nodelist=[<_ast.FunctionDef object>, <_ast.Expr object>, <_ast.Print object>], cell_name='<ipython-input-11-60fe194e498e>', interactivity='none', compiler=<IPython.core.compilerop.CachingCompiler instance>, result=<ExecutionResult object at 7f6716a15410, executi..._before_exec=None error_in_exec=None result=None>)\n   2816 \n   2817         try:\n   2818             for i, node in enumerate(to_run_exec):\n   2819                 mod = ast.Module([node])\n   2820                 code = compiler(mod, cell_name, \"exec\")\n-> 2821                 if self.run_code(code, result):\n        self.run_code = <bound method ZMQInteractiveShell.run_code of <ipykernel.zmqshell.ZMQInteractiveShell object>>\n        code = <code object <module> at 0x7f67173cf6b0, file \"<ipython-input-11-60fe194e498e>\", line 10>\n        result = <ExecutionResult object at 7f6716a15410, executi..._before_exec=None error_in_exec=None result=None>\n   2822                     return True\n   2823 \n   2824             for i, node in enumerate(to_run_interactive):\n   2825                 mod = ast.Interactive([node])\n\n...........................................................................\n/data/wbbruin/anaconda2/lib/python2.7/site-packages/IPython/core/interactiveshell.py in run_code(self=<ipykernel.zmqshell.ZMQInteractiveShell object>, code_obj=<code object <module> at 0x7f67173cf6b0, file \"<ipython-input-11-60fe194e498e>\", line 10>, result=<ExecutionResult object at 7f6716a15410, executi..._before_exec=None error_in_exec=None result=None>)\n   2876         outflag = 1  # happens in more places, so it's easier as default\n   2877         try:\n   2878             try:\n   2879                 self.hooks.pre_run_code_hook()\n   2880                 #rprint('Running code', repr(code_obj)) # dbg\n-> 2881                 exec(code_obj, self.user_global_ns, self.user_ns)\n        code_obj = <code object <module> at 0x7f67173cf6b0, file \"<ipython-input-11-60fe194e498e>\", line 10>\n        self.user_global_ns = {'FOLDER_DATA': '/data/shared/bvFTD/Machine_Learning/data', 'In': ['', u\"get_ipython().magic(u'matplotlib inline')\\nimp...port pandas as pd\\nfrom itertools import product\", u'# masks zeros out\\nid_zeros = np.all(X == 0, axis=0)\\nX = X[:, ~id_zeros]', u\"FOLDER_DATA = '/data/shared/bvFTD/Machine_Lear...rix()\\nid_psych = group_labels.psych.as_matrix()\", u'# masks zeros out\\nid_zeros = np.all(X == 0, axis=0)\\nX = X[:, ~id_zeros]', u\"def make_scatter(data):\\n    colors = ['r', 'g...lt.legend(['FTD', 'Neurological', 'Psychiatry'])\", u'pca = PCA(n_components=500)\\nX_pca = pca.fit_transform(X)', u'scaler = StandardScaler()\\nX_pca_scl = scaler.fit_transform(X_pca)', u\"tsne = TSNE(n_components=3, learning_rate=200,... verbose=1, method='exact')\\ntsne.fit(X_pca_scl)\", u'learn_rate = np.linspace(100, 1000, 50)\\nperplexity = np.arange(1, 51)', u'learn_rate = np.linspace(100, 1000, 200)\\nperp... perplexity.size * n_components, dtype=np.float)', u\"def inner_loop_iteration(data, n, rate, perp, ...onents)))\\n\\nprint kl_div.min(), kl_div.argmin()\"], 'Out': {8: TSNE(angle=0.5, early_exaggeration=4.0, init='pc..., perplexity=10,\n   random_state=None, verbose=1)}, 'PCA': <class 'sklearn.decomposition.pca.PCA'>, 'Parallel': <class 'joblib.parallel.Parallel'>, 'StandardScaler': <class 'sklearn.preprocessing.data.StandardScaler'>, 'TSNE': <class 'sklearn.manifold.t_sne.TSNE'>, 'X': array([[ 0.,  0.,  0., ...,  0.,  0.,  0.],\n    ...0.],\n       [ 0.,  0.,  0., ...,  0.,  0.,  0.]]), 'X_pca': array([[ -5.17735617e+00,  -9.35697411e+00,  -1....743347e+00,  -4.79691295e-01,   7.70861532e-14]]), 'X_pca_scl': array([[-0.17633075, -0.64203664, -0.91794796, .... -0.36828648,\n        -0.16788246, -0.20037838]]), ...}\n        self.user_ns = {'FOLDER_DATA': '/data/shared/bvFTD/Machine_Learning/data', 'In': ['', u\"get_ipython().magic(u'matplotlib inline')\\nimp...port pandas as pd\\nfrom itertools import product\", u'# masks zeros out\\nid_zeros = np.all(X == 0, axis=0)\\nX = X[:, ~id_zeros]', u\"FOLDER_DATA = '/data/shared/bvFTD/Machine_Lear...rix()\\nid_psych = group_labels.psych.as_matrix()\", u'# masks zeros out\\nid_zeros = np.all(X == 0, axis=0)\\nX = X[:, ~id_zeros]', u\"def make_scatter(data):\\n    colors = ['r', 'g...lt.legend(['FTD', 'Neurological', 'Psychiatry'])\", u'pca = PCA(n_components=500)\\nX_pca = pca.fit_transform(X)', u'scaler = StandardScaler()\\nX_pca_scl = scaler.fit_transform(X_pca)', u\"tsne = TSNE(n_components=3, learning_rate=200,... verbose=1, method='exact')\\ntsne.fit(X_pca_scl)\", u'learn_rate = np.linspace(100, 1000, 50)\\nperplexity = np.arange(1, 51)', u'learn_rate = np.linspace(100, 1000, 200)\\nperp... perplexity.size * n_components, dtype=np.float)', u\"def inner_loop_iteration(data, n, rate, perp, ...onents)))\\n\\nprint kl_div.min(), kl_div.argmin()\"], 'Out': {8: TSNE(angle=0.5, early_exaggeration=4.0, init='pc..., perplexity=10,\n   random_state=None, verbose=1)}, 'PCA': <class 'sklearn.decomposition.pca.PCA'>, 'Parallel': <class 'joblib.parallel.Parallel'>, 'StandardScaler': <class 'sklearn.preprocessing.data.StandardScaler'>, 'TSNE': <class 'sklearn.manifold.t_sne.TSNE'>, 'X': array([[ 0.,  0.,  0., ...,  0.,  0.,  0.],\n    ...0.],\n       [ 0.,  0.,  0., ...,  0.,  0.,  0.]]), 'X_pca': array([[ -5.17735617e+00,  -9.35697411e+00,  -1....743347e+00,  -4.79691295e-01,   7.70861532e-14]]), 'X_pca_scl': array([[-0.17633075, -0.64203664, -0.91794796, .... -0.36828648,\n        -0.16788246, -0.20037838]]), ...}\n   2882             finally:\n   2883                 # Reset our crash handler in place\n   2884                 sys.excepthook = old_excepthook\n   2885         except SystemExit as e:\n\n...........................................................................\n/data/shared/bvFTD/Machine_Learning/Scripts/<ipython-input-11-60fe194e498e> in <module>()\n      6     kl_div[i] = tsne.kl_divergence_\n      7     embedings[n][..., i] = tsne.embedding_\n      8     return tsne.kl_divergence, tsne.embedding_\n      9 \n     10 Parallel(n_jobs=n_jobs, verbose=1)(delayed(inner_loop_iteration)(n, rate, perp, i)\n---> 11                                    for i, (rate, perp, n) in enumerate(product(learn_rate, perplexity, n_components)))\n     12 \n     13 print kl_div.min(), kl_div.argmin()\n     14 \n     15 \n\n...........................................................................\n/data/wbbruin/anaconda2/lib/python2.7/site-packages/joblib/parallel.py in __call__(self=Parallel(n_jobs=10), iterable=<generator object <genexpr>>)\n    763             if pre_dispatch == \"all\" or n_jobs == 1:\n    764                 # The iterable was consumed all at once by the above for loop.\n    765                 # No need to wait for async callbacks to trigger to\n    766                 # consumption.\n    767                 self._iterating = False\n--> 768             self.retrieve()\n        self.retrieve = <bound method Parallel.retrieve of Parallel(n_jobs=10)>\n    769             # Make sure that we get a last message telling us we are done\n    770             elapsed_time = time.time() - self._start_time\n    771             self._print('Done %3i out of %3i | elapsed: %s finished',\n    772                         (len(self._output), len(self._output),\n\n---------------------------------------------------------------------------\nSub-process traceback:\n---------------------------------------------------------------------------\nTypeError                                          Mon Nov  7 15:57:10 2016\nPID: 18582                Python 2.7.12: /data/wbbruin/anaconda2/bin/python\n...........................................................................\n/data/wbbruin/anaconda2/lib/python2.7/site-packages/joblib/parallel.py in __call__(self=<joblib.parallel.BatchedCalls object>)\n    126     def __init__(self, iterator_slice):\n    127         self.items = list(iterator_slice)\n    128         self._size = len(self.items)\n    129 \n    130     def __call__(self):\n--> 131         return [func(*args, **kwargs) for func, args, kwargs in self.items]\n        func = <function inner_loop_iteration>\n        args = (2, 100.0, 1, 0)\n        kwargs = {}\n        self.items = [(<function inner_loop_iteration>, (2, 100.0, 1, 0), {})]\n    132 \n    133     def __len__(self):\n    134         return self._size\n    135 \n\nTypeError: inner_loop_iteration() takes exactly 5 arguments (4 given)\n___________________________________________________________________________"
     ]
    }
   ],
   "source": [
    "def inner_loop_iteration(data, n, rate, perp, i):\n",
    "    print '#Iteration {}'.format(i)\n",
    "    print '#Learning rate ({}) #Perplexity: ({}) #Components: ({})'.format(rate, perp, n)\n",
    "    tsne = TSNE(n_components=n, learning_rate=rate, perplexity=perp, init='pca', method='exact')\n",
    "    tsne.fit(X_pca_scl)\n",
    "    kl_div[i] = tsne.kl_divergence_\n",
    "    embedings[n][..., i] = tsne.embedding_\n",
    "    return tsne.kl_divergence, tsne.embedding_\n",
    "\n",
    "Parallel(n_jobs=n_jobs, verbose=1)(delayed(inner_loop_iteration)(n, rate, perp, i)\n",
    "                                   for i, (rate, perp, n) in enumerate(product(learn_rate, perplexity, n_components)))\n",
    "\n",
    "print kl_div.min(), kl_div.argmin()"
   ]
  },
  {
   "cell_type": "code",
   "execution_count": null,
   "metadata": {
    "collapsed": false
   },
   "outputs": [],
   "source": [
    "id_wrong = np.isclose(kl_div, np.zeros_like(kl_div))"
   ]
  },
  {
   "cell_type": "code",
   "execution_count": null,
   "metadata": {
    "collapsed": true
   },
   "outputs": [],
   "source": [
    "kl_div_tmp = kl_div[~id_wrong]"
   ]
  },
  {
   "cell_type": "code",
   "execution_count": null,
   "metadata": {
    "collapsed": false
   },
   "outputs": [],
   "source": [
    "embedings = embedings[..., ~id_wrong]"
   ]
  },
  {
   "cell_type": "code",
   "execution_count": null,
   "metadata": {
    "collapsed": false
   },
   "outputs": [],
   "source": [
    "kl_div_tmp.min()"
   ]
  },
  {
   "cell_type": "code",
   "execution_count": null,
   "metadata": {
    "collapsed": false
   },
   "outputs": [],
   "source": [
    "kl_div_tmp.argmin()"
   ]
  },
  {
   "cell_type": "code",
   "execution_count": null,
   "metadata": {
    "collapsed": false
   },
   "outputs": [],
   "source": [
    "best_lambda = learn_rate[np.argmin(kl_div)]\n",
    "print best_lambda111"
   ]
  },
  {
   "cell_type": "code",
   "execution_count": null,
   "metadata": {
    "collapsed": false
   },
   "outputs": [],
   "source": [
    "plt.figure(figsize=(15, 15))\n",
    "make_scatter(embedings[..., 899])"
   ]
  },
  {
   "cell_type": "code",
   "execution_count": null,
   "metadata": {
    "collapsed": true
   },
   "outputs": [],
   "source": [
    "perplexity = np.arange(5, 51)\n",
    "kl_div = np.zeros_like(perplexity)\n",
    "for i, perp in enumerate(perplexity):\n",
    "    tsne = TSNE(n_components=2, perplexity=perp, init='pca', verbose=0, method='exact')\n",
    "    tsne.fit(X_pca_scl)\n",
    "    kl_div[i] = tsne.kl_divergence_"
   ]
  },
  {
   "cell_type": "code",
   "execution_count": null,
   "metadata": {
    "collapsed": false
   },
   "outputs": [],
   "source": [
    "plt.figure(figsize=(15, 15))\n",
    "make_scatter(tsne.embedding_)"
   ]
  },
  {
   "cell_type": "code",
   "execution_count": null,
   "metadata": {
    "collapsed": false
   },
   "outputs": [],
   "source": []
  }
 ],
 "metadata": {
  "anaconda-cloud": {},
  "kernelspec": {
   "display_name": "Python [conda root]",
   "language": "python",
   "name": "conda-root-py"
  },
  "language_info": {
   "codemirror_mode": {
    "name": "ipython",
    "version": 2
   },
   "file_extension": ".py",
   "mimetype": "text/x-python",
   "name": "python",
   "nbconvert_exporter": "python",
   "pygments_lexer": "ipython2",
   "version": "2.7.12"
  }
 },
 "nbformat": 4,
 "nbformat_minor": 0
}
