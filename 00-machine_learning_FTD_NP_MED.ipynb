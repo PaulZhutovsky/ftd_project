{
 "cells": [
  {
   "cell_type": "code",
   "execution_count": 21,
   "metadata": {
    "collapsed": true
   },
   "outputs": [],
   "source": [
    "%matplotlib inline\n",
    "import matplotlib.pyplot as plt\n",
    "import numpy as np\n",
    "import pandas as pd"
   ]
  },
  {
   "cell_type": "code",
   "execution_count": 29,
   "metadata": {
    "collapsed": false
   },
   "outputs": [],
   "source": [
    "ftd_csv_file = '/data/shared/bvFTD/AMC_VUMC_bvFTD.csv'"
   ]
  },
  {
   "cell_type": "code",
   "execution_count": 30,
   "metadata": {
    "collapsed": true
   },
   "outputs": [],
   "source": [
    "def load_data():\n",
    "    # seperator is different from standard because of SPSS \n",
    "    return pd.read_csv(ftd_csv_file, sep=';')"
   ]
  },
  {
   "cell_type": "code",
   "execution_count": 37,
   "metadata": {
    "collapsed": false
   },
   "outputs": [],
   "source": [
    "ftd_csv_df = load_data()"
   ]
  },
  {
   "cell_type": "code",
   "execution_count": 38,
   "metadata": {
    "collapsed": false
   },
   "outputs": [
    {
     "data": {
      "text/html": [
       "<div>\n",
       "<table border=\"1\" class=\"dataframe\">\n",
       "  <thead>\n",
       "    <tr style=\"text-align: right;\">\n",
       "      <th></th>\n",
       "      <th>﻿Status_scan</th>\n",
       "      <th>ID_D</th>\n",
       "      <th>Geboortedatum</th>\n",
       "      <th>Sex</th>\n",
       "      <th>age_Dx_T0</th>\n",
       "      <th>OnsetDis</th>\n",
       "      <th>Date_DX_T0</th>\n",
       "      <th>Education_Verhage</th>\n",
       "      <th>DxT2_filtered</th>\n",
       "      <th>DxT2</th>\n",
       "      <th>...</th>\n",
       "      <th>MED_Anticholinerg</th>\n",
       "      <th>MED_Antipsychotica</th>\n",
       "      <th>MED_Antidepr</th>\n",
       "      <th>MED_Antiepileptica</th>\n",
       "      <th>MED_Parkinsonisme</th>\n",
       "      <th>MMSE</th>\n",
       "      <th>FAB</th>\n",
       "      <th>FBI_tot_baseline</th>\n",
       "      <th>SRI_tot_baseline</th>\n",
       "      <th>diagnosis_cat</th>\n",
       "    </tr>\n",
       "  </thead>\n",
       "  <tbody>\n",
       "    <tr>\n",
       "      <th>0</th>\n",
       "      <td></td>\n",
       "      <td>4800</td>\n",
       "      <td>5/13/1955</td>\n",
       "      <td>m</td>\n",
       "      <td>56,3148528405202</td>\n",
       "      <td>2009</td>\n",
       "      <td>9/5/2011</td>\n",
       "      <td>4</td>\n",
       "      <td>1</td>\n",
       "      <td>Subjectieve klachten</td>\n",
       "      <td>...</td>\n",
       "      <td>nee</td>\n",
       "      <td>nee</td>\n",
       "      <td>nee</td>\n",
       "      <td>nee</td>\n",
       "      <td>nee</td>\n",
       "      <td>28</td>\n",
       "      <td>18</td>\n",
       "      <td>36</td>\n",
       "      <td>0</td>\n",
       "      <td></td>\n",
       "    </tr>\n",
       "    <tr>\n",
       "      <th>1</th>\n",
       "      <td></td>\n",
       "      <td>5039</td>\n",
       "      <td>7/24/1948</td>\n",
       "      <td>m</td>\n",
       "      <td>63,0691307323751</td>\n",
       "      <td>2009</td>\n",
       "      <td>8/19/2011</td>\n",
       "      <td>5</td>\n",
       "      <td>1</td>\n",
       "      <td>Subjectieve klachten</td>\n",
       "      <td>...</td>\n",
       "      <td>nee</td>\n",
       "      <td>nee</td>\n",
       "      <td>nee</td>\n",
       "      <td>nee</td>\n",
       "      <td>nee</td>\n",
       "      <td>25</td>\n",
       "      <td>18</td>\n",
       "      <td>21</td>\n",
       "      <td>10</td>\n",
       "      <td></td>\n",
       "    </tr>\n",
       "    <tr>\n",
       "      <th>2</th>\n",
       "      <td></td>\n",
       "      <td>5160</td>\n",
       "      <td>3/28/1939</td>\n",
       "      <td>m</td>\n",
       "      <td>72,3449691991786</td>\n",
       "      <td>2010</td>\n",
       "      <td>8/1/2011</td>\n",
       "      <td>6</td>\n",
       "      <td>1</td>\n",
       "      <td>Subjectieve klachten</td>\n",
       "      <td>...</td>\n",
       "      <td>nee</td>\n",
       "      <td>nee</td>\n",
       "      <td>nee</td>\n",
       "      <td>nee</td>\n",
       "      <td>nee</td>\n",
       "      <td>30</td>\n",
       "      <td>12</td>\n",
       "      <td>11</td>\n",
       "      <td>3</td>\n",
       "      <td></td>\n",
       "    </tr>\n",
       "    <tr>\n",
       "      <th>3</th>\n",
       "      <td></td>\n",
       "      <td>6546</td>\n",
       "      <td>6/28/1965</td>\n",
       "      <td>m</td>\n",
       "      <td>47,7316906228611</td>\n",
       "      <td>2010</td>\n",
       "      <td>3/22/2013</td>\n",
       "      <td>6</td>\n",
       "      <td>1</td>\n",
       "      <td>Subjectieve klachten</td>\n",
       "      <td>...</td>\n",
       "      <td>nee</td>\n",
       "      <td>nee</td>\n",
       "      <td>nee</td>\n",
       "      <td>nee</td>\n",
       "      <td>nee</td>\n",
       "      <td>29</td>\n",
       "      <td>16</td>\n",
       "      <td>17</td>\n",
       "      <td>0</td>\n",
       "      <td></td>\n",
       "    </tr>\n",
       "    <tr>\n",
       "      <th>4</th>\n",
       "      <td></td>\n",
       "      <td>6801</td>\n",
       "      <td>10/5/1953</td>\n",
       "      <td>m</td>\n",
       "      <td>59,9096509240246</td>\n",
       "      <td>2012</td>\n",
       "      <td>9/2/2013</td>\n",
       "      <td>7</td>\n",
       "      <td>1</td>\n",
       "      <td>Subjectieve klachten</td>\n",
       "      <td>...</td>\n",
       "      <td>nee</td>\n",
       "      <td>nee</td>\n",
       "      <td>ja</td>\n",
       "      <td>nee</td>\n",
       "      <td>nee</td>\n",
       "      <td>28</td>\n",
       "      <td>18</td>\n",
       "      <td>12</td>\n",
       "      <td>2</td>\n",
       "      <td></td>\n",
       "    </tr>\n",
       "  </tbody>\n",
       "</table>\n",
       "<p>5 rows × 31 columns</p>\n",
       "</div>"
      ],
      "text/plain": [
       "  ﻿Status_scan  ID_D Geboortedatum Sex         age_Dx_T0  OnsetDis Date_DX_T0  \\\n",
       "0               4800     5/13/1955   m  56,3148528405202      2009   9/5/2011   \n",
       "1               5039     7/24/1948   m  63,0691307323751      2009  8/19/2011   \n",
       "2               5160     3/28/1939   m  72,3449691991786      2010   8/1/2011   \n",
       "3               6546     6/28/1965   m  47,7316906228611      2010  3/22/2013   \n",
       "4               6801     10/5/1953   m  59,9096509240246      2012   9/2/2013   \n",
       "\n",
       "   Education_Verhage DxT2_filtered                  DxT2      ...       \\\n",
       "0                  4             1  Subjectieve klachten      ...        \n",
       "1                  5             1  Subjectieve klachten      ...        \n",
       "2                  6             1  Subjectieve klachten      ...        \n",
       "3                  6             1  Subjectieve klachten      ...        \n",
       "4                  7             1  Subjectieve klachten      ...        \n",
       "\n",
       "  MED_Anticholinerg MED_Antipsychotica MED_Antidepr MED_Antiepileptica  \\\n",
       "0               nee                nee          nee                nee   \n",
       "1               nee                nee          nee                nee   \n",
       "2               nee                nee          nee                nee   \n",
       "3               nee                nee          nee                nee   \n",
       "4               nee                nee           ja                nee   \n",
       "\n",
       "  MED_Parkinsonisme MMSE FAB FBI_tot_baseline SRI_tot_baseline diagnosis_cat  \n",
       "0               nee   28  18               36                0                \n",
       "1               nee   25  18               21               10                \n",
       "2               nee   30  12               11                3                \n",
       "3               nee   29  16               17                0                \n",
       "4               nee   28  18               12                2                \n",
       "\n",
       "[5 rows x 31 columns]"
      ]
     },
     "execution_count": 38,
     "metadata": {},
     "output_type": "execute_result"
    }
   ],
   "source": [
    "ftd_csv_df.head()"
   ]
  },
  {
   "cell_type": "code",
   "execution_count": 39,
   "metadata": {
    "collapsed": false
   },
   "outputs": [
    {
     "data": {
      "text/html": [
       "<div>\n",
       "<table border=\"1\" class=\"dataframe\">\n",
       "  <thead>\n",
       "    <tr style=\"text-align: right;\">\n",
       "      <th></th>\n",
       "      <th>VG_HVZ</th>\n",
       "      <th>VG_MCI</th>\n",
       "      <th>VG_PSY</th>\n",
       "      <th>VG_ALS</th>\n",
       "      <th>VG_PARK</th>\n",
       "      <th>VG_AUTISME</th>\n",
       "      <th>VG_DYSLE</th>\n",
       "      <th>VG_THYR</th>\n",
       "      <th>VG_TEKST</th>\n",
       "    </tr>\n",
       "  </thead>\n",
       "  <tbody>\n",
       "    <tr>\n",
       "      <th>0</th>\n",
       "      <td>ja</td>\n",
       "      <td>nee</td>\n",
       "      <td>nee</td>\n",
       "      <td>nee</td>\n",
       "      <td>nee</td>\n",
       "      <td>nee</td>\n",
       "      <td>nee</td>\n",
       "      <td>nee</td>\n",
       "      <td>contusio cerebri 1973 doof li '97 myocard infarct</td>\n",
       "    </tr>\n",
       "    <tr>\n",
       "      <th>1</th>\n",
       "      <td>nee</td>\n",
       "      <td>nee</td>\n",
       "      <td>ja</td>\n",
       "      <td>nee</td>\n",
       "      <td>nee</td>\n",
       "      <td>nee</td>\n",
       "      <td>nee</td>\n",
       "      <td>nee</td>\n",
       "      <td>depressie in 2003</td>\n",
       "    </tr>\n",
       "    <tr>\n",
       "      <th>2</th>\n",
       "      <td>ja</td>\n",
       "      <td>nee</td>\n",
       "      <td>nee</td>\n",
       "      <td>nee</td>\n",
       "      <td>nee</td>\n",
       "      <td>nee</td>\n",
       "      <td>nee</td>\n",
       "      <td>nee</td>\n",
       "      <td></td>\n",
       "    </tr>\n",
       "    <tr>\n",
       "      <th>3</th>\n",
       "      <td>nee</td>\n",
       "      <td>nee</td>\n",
       "      <td>nee</td>\n",
       "      <td>nee</td>\n",
       "      <td>nee</td>\n",
       "      <td>nee</td>\n",
       "      <td>nee</td>\n",
       "      <td>nee</td>\n",
       "      <td>2006 analyse onverklaarde hoofdpijn</td>\n",
       "    </tr>\n",
       "    <tr>\n",
       "      <th>4</th>\n",
       "      <td>nee</td>\n",
       "      <td>nee</td>\n",
       "      <td>nee</td>\n",
       "      <td>nee</td>\n",
       "      <td>nee</td>\n",
       "      <td>nee</td>\n",
       "      <td>nee</td>\n",
       "      <td>nee</td>\n",
       "      <td></td>\n",
       "    </tr>\n",
       "  </tbody>\n",
       "</table>\n",
       "</div>"
      ],
      "text/plain": [
       "  VG_HVZ VG_MCI VG_PSY VG_ALS VG_PARK VG_AUTISME VG_DYSLE VG_THYR  \\\n",
       "0     ja    nee    nee    nee     nee        nee      nee     nee   \n",
       "1    nee    nee     ja    nee     nee        nee      nee     nee   \n",
       "2     ja    nee    nee    nee     nee        nee      nee     nee   \n",
       "3    nee    nee    nee    nee     nee        nee      nee     nee   \n",
       "4    nee    nee    nee    nee     nee        nee      nee     nee   \n",
       "\n",
       "                                            VG_TEKST  \n",
       "0  contusio cerebri 1973 doof li '97 myocard infarct  \n",
       "1                                  depressie in 2003  \n",
       "2                                                     \n",
       "3                2006 analyse onverklaarde hoofdpijn  \n",
       "4                                                     "
      ]
     },
     "execution_count": 39,
     "metadata": {},
     "output_type": "execute_result"
    }
   ],
   "source": [
    "ftd_csv_df.select(lambda x: x.startswith('VG'), axis=1).head()"
   ]
  },
  {
   "cell_type": "code",
   "execution_count": 41,
   "metadata": {
    "collapsed": false
   },
   "outputs": [
    {
     "data": {
      "text/html": [
       "<div>\n",
       "<table border=\"1\" class=\"dataframe\">\n",
       "  <thead>\n",
       "    <tr style=\"text-align: right;\">\n",
       "      <th></th>\n",
       "      <th>MMSE</th>\n",
       "      <th>FAB</th>\n",
       "    </tr>\n",
       "  </thead>\n",
       "  <tbody>\n",
       "    <tr>\n",
       "      <th>0</th>\n",
       "      <td>28</td>\n",
       "      <td>18</td>\n",
       "    </tr>\n",
       "    <tr>\n",
       "      <th>1</th>\n",
       "      <td>25</td>\n",
       "      <td>18</td>\n",
       "    </tr>\n",
       "    <tr>\n",
       "      <th>2</th>\n",
       "      <td>30</td>\n",
       "      <td>12</td>\n",
       "    </tr>\n",
       "    <tr>\n",
       "      <th>3</th>\n",
       "      <td>29</td>\n",
       "      <td>16</td>\n",
       "    </tr>\n",
       "    <tr>\n",
       "      <th>4</th>\n",
       "      <td>28</td>\n",
       "      <td>18</td>\n",
       "    </tr>\n",
       "  </tbody>\n",
       "</table>\n",
       "</div>"
      ],
      "text/plain": [
       "   MMSE FAB\n",
       "0    28  18\n",
       "1    25  18\n",
       "2    30  12\n",
       "3    29  16\n",
       "4    28  18"
      ]
     },
     "execution_count": 41,
     "metadata": {},
     "output_type": "execute_result"
    }
   ],
   "source": [
    "ftd_csv_df.loc[:, ['MMSE', 'FAB']].head()"
   ]
  },
  {
   "cell_type": "code",
   "execution_count": null,
   "metadata": {
    "collapsed": true
   },
   "outputs": [],
   "source": [
    ""
   ]
  },
  {
   "cell_type": "markdown",
   "metadata": {},
   "source": [
    "# FTD is 1, everything else is 0"
   ]
  },
  {
   "cell_type": "code",
   "execution_count": 42,
   "metadata": {
    "collapsed": true
   },
   "outputs": [],
   "source": [
    "ftd_csv_df['diagnosis_label'] = np.zeros(ftd_csv_df.shape[0])\n",
    "ftd_csv_df.loc[ftd_csv_df.DxT2 == 'ProbableFTD', 'diagnosis_label'] = 1\n",
    "ftd_csv_df.loc[ftd_csv_df.DxT2 == 'Def. FTD', 'diagnosis_label'] = 1"
   ]
  },
  {
   "cell_type": "code",
   "execution_count": 44,
   "metadata": {
    "collapsed": false
   },
   "outputs": [
    {
     "data": {
      "text/plain": [
       "23.0"
      ]
     },
     "execution_count": 44,
     "metadata": {},
     "output_type": "execute_result"
    }
   ],
   "source": [
    "ftd_csv_df.diagnosis_label.sum()"
   ]
  },
  {
   "cell_type": "code",
   "execution_count": 48,
   "metadata": {
    "collapsed": true
   },
   "outputs": [],
   "source": [
    "# we have to exclude the free text column \n",
    "select_VG_and_MED = lambda x: (x.startswith('VG') or x.startswith('MED')) and not x.startswith('VG_TEKST')"
   ]
  },
  {
   "cell_type": "code",
   "execution_count": 49,
   "metadata": {
    "collapsed": false
   },
   "outputs": [],
   "source": [
    "VG_MED_col_array = ftd_csv_df.select(select_VG_and_MED, axis=1).as_matrix()\n",
    "id_non_standard = (VG_MED_col_array != 'ja') & (VG_MED_col_array != 'nee')\n",
    "outliers = np.unique(VG_MED_col_array[id_non_standard])"
   ]
  },
  {
   "cell_type": "code",
   "execution_count": 50,
   "metadata": {
    "collapsed": false
   },
   "outputs": [],
   "source": [
    "empty_string_df = ftd_csv_df.isin(outliers)\n",
    "id_subj_remove = empty_string_df.select(select_VG_and_MED, axis=1).any(axis=1)"
   ]
  },
  {
   "cell_type": "code",
   "execution_count": 51,
   "metadata": {
    "collapsed": false
   },
   "outputs": [
    {
     "data": {
      "text/plain": [
       "0      False\n",
       "1      False\n",
       "2      False\n",
       "3      False\n",
       "4      False\n",
       "5      False\n",
       "6       True\n",
       "7      False\n",
       "8      False\n",
       "9      False\n",
       "10     False\n",
       "11     False\n",
       "12     False\n",
       "13     False\n",
       "14      True\n",
       "15     False\n",
       "16     False\n",
       "17     False\n",
       "18     False\n",
       "19     False\n",
       "20     False\n",
       "21     False\n",
       "22     False\n",
       "23     False\n",
       "24     False\n",
       "25     False\n",
       "26      True\n",
       "27     False\n",
       "28      True\n",
       "29     False\n",
       "       ...  \n",
       "90     False\n",
       "91     False\n",
       "92     False\n",
       "93     False\n",
       "94     False\n",
       "95     False\n",
       "96     False\n",
       "97      True\n",
       "98     False\n",
       "99     False\n",
       "100    False\n",
       "101    False\n",
       "102    False\n",
       "103     True\n",
       "104     True\n",
       "105    False\n",
       "106    False\n",
       "107     True\n",
       "108    False\n",
       "109    False\n",
       "110    False\n",
       "111    False\n",
       "112    False\n",
       "113    False\n",
       "114    False\n",
       "115     True\n",
       "116    False\n",
       "117    False\n",
       "118    False\n",
       "119    False\n",
       "dtype: bool"
      ]
     },
     "execution_count": 51,
     "metadata": {},
     "output_type": "execute_result"
    }
   ],
   "source": [
    "id_subj_remove"
   ]
  },
  {
   "cell_type": "code",
   "execution_count": 52,
   "metadata": {
    "collapsed": true
   },
   "outputs": [],
   "source": [
    "ftd_csv_df = ftd_csv_df.loc[~id_subj_remove]"
   ]
  },
  {
   "cell_type": "code",
   "execution_count": 53,
   "metadata": {
    "collapsed": false
   },
   "outputs": [],
   "source": [
    "ftd_csv_df = ftd_csv_df.mask(ftd_csv_df.isin(['ja']), 1.)\n",
    "ftd_csv_df = ftd_csv_df.mask(ftd_csv_df.isin(['nee']), 0.)"
   ]
  },
  {
   "cell_type": "code",
   "execution_count": 54,
   "metadata": {
    "collapsed": false
   },
   "outputs": [
    {
     "name": "stderr",
     "output_type": "stream",
     "text": [
      "/data/wbbruin/anaconda2/lib/python2.7/site-packages/pandas/core/indexing.py:132: SettingWithCopyWarning: \n",
      "A value is trying to be set on a copy of a slice from a DataFrame\n",
      "\n",
      "See the caveats in the documentation: http://pandas.pydata.org/pandas-docs/stable/indexing.html#indexing-view-versus-copy\n",
      "  self._setitem_with_indexer(indexer, value)\n"
     ]
    }
   ],
   "source": [
    "ftd_csv_df.Sex.loc[ftd_csv_df.Sex == 'm'] = 0.\n",
    "ftd_csv_df.Sex.loc[ftd_csv_df.Sex == 'f'] = 1.\n",
    "ftd_csv_df.Sex = ftd_csv_df.Sex.astype(np.float)"
   ]
  },
  {
   "cell_type": "code",
   "execution_count": 55,
   "metadata": {
    "collapsed": false
   },
   "outputs": [],
   "source": [
    "# the string float values were with a ',' and np.float don't work on that\n",
    "ftd_csv_df.age_Dx_T0 = ftd_csv_df.age_Dx_T0.str.replace(',', '.').astype(np.float)"
   ]
  },
  {
   "cell_type": "code",
   "execution_count": 56,
   "metadata": {
    "collapsed": false
   },
   "outputs": [
    {
     "data": {
      "text/plain": [
       "Index([u'﻿Status_scan', u'ID_D', u'Geboortedatum', u'Sex', u'age_Dx_T0',\n",
       "       u'OnsetDis', u'Date_DX_T0', u'Education_Verhage', u'DxT2_filtered',\n",
       "       u'DxT2', u'Vrij_tekst_Dx', u'VG_HVZ', u'VG_MCI', u'VG_PSY', u'VG_ALS',\n",
       "       u'VG_PARK', u'VG_AUTISME', u'VG_DYSLE', u'VG_THYR', u'VG_TEKST',\n",
       "       u'MED_Seditiva', u'MED_Anticholinerg', u'MED_Antipsychotica',\n",
       "       u'MED_Antidepr', u'MED_Antiepileptica', u'MED_Parkinsonisme', u'MMSE',\n",
       "       u'FAB', u'FBI_tot_baseline', u'SRI_tot_baseline', u'diagnosis_cat',\n",
       "       u'diagnosis_label'],\n",
       "      dtype='object')"
      ]
     },
     "execution_count": 56,
     "metadata": {},
     "output_type": "execute_result"
    }
   ],
   "source": [
    "ftd_csv_df.columns"
   ]
  },
  {
   "cell_type": "code",
   "execution_count": 57,
   "metadata": {
    "collapsed": false
   },
   "outputs": [],
   "source": [
    "# VG and MED features\n",
    "X_VG_MED = ftd_csv_df.select(select_VG_and_MED, axis=1).as_matrix().astype(np.float)\n",
    "X_MMSE = ftd_csv_df.loc[:, 'MMSE'].as_matrix().astype(np.float)\n",
    "X_sex_age = ftd_csv_df.loc[:, ['age_Dx_T0', 'Sex']].as_matrix()\n",
    "X = np.concatenate((X_VG_MED, X_MMSE[:, np.newaxis], X_sex_age), axis=1)"
   ]
  },
  {
   "cell_type": "code",
   "execution_count": 58,
   "metadata": {
    "collapsed": false
   },
   "outputs": [
    {
     "data": {
      "text/plain": [
       "(103, 17)"
      ]
     },
     "execution_count": 58,
     "metadata": {},
     "output_type": "execute_result"
    }
   ],
   "source": [
    "X.shape"
   ]
  },
  {
   "cell_type": "code",
   "execution_count": 59,
   "metadata": {
    "collapsed": false
   },
   "outputs": [],
   "source": [
    "y = ftd_csv_df.diagnosis_label.astype(np.int).as_matrix()"
   ]
  },
  {
   "cell_type": "markdown",
   "metadata": {},
   "source": [
    "# Preprocessing done: let's do machine learning!"
   ]
  },
  {
   "cell_type": "code",
   "execution_count": 60,
   "metadata": {
    "collapsed": true
   },
   "outputs": [],
   "source": [
    "from sklearn.cross_validation import cross_val_score\n",
    "from sklearn.svm import SVC\n",
    "from sklearn.ensemble import RandomForestClassifier\n",
    "from sklearn.linear_model import LogisticRegression"
   ]
  },
  {
   "cell_type": "code",
   "execution_count": 61,
   "metadata": {
    "collapsed": true
   },
   "outputs": [],
   "source": [
    "svm = SVC(kernel='linear')\n",
    "rforest = RandomForestClassifier()\n",
    "log_reg = LogisticRegression(penalty='l1')"
   ]
  },
  {
   "cell_type": "code",
   "execution_count": 62,
   "metadata": {
    "collapsed": false
   },
   "outputs": [
    {
     "name": "stderr",
     "output_type": "stream",
     "text": [
      "[Parallel(n_jobs=20)]: Done  10 out of  10 | elapsed:    0.3s finished\n",
      "[Parallel(n_jobs=20)]: Done  10 out of  10 | elapsed:    0.3s finished\n",
      "[Parallel(n_jobs=20)]: Done  10 out of  10 | elapsed:    0.4s finished\n"
     ]
    }
   ],
   "source": [
    "auc_svm = cross_val_score(svm, X, y, scoring='roc_auc', cv=10, n_jobs=20, verbose=1)\n",
    "auc_rforest = cross_val_score(rforest, X, y, scoring='roc_auc', cv=10, n_jobs=20, verbose=1)\n",
    "auc_log_reg = cross_val_score(log_reg, X, y, scoring='roc_auc', cv=10, n_jobs=20, verbose=1)"
   ]
  },
  {
   "cell_type": "code",
   "execution_count": 65,
   "metadata": {
    "collapsed": false
   },
   "outputs": [
    {
     "data": {
      "text/plain": [
       "0.64930555555555558"
      ]
     },
     "execution_count": 65,
     "metadata": {},
     "output_type": "execute_result"
    }
   ],
   "source": [
    "auc_log_reg.mean()"
   ]
  },
  {
   "cell_type": "code",
   "execution_count": 66,
   "metadata": {
    "collapsed": false
   },
   "outputs": [
    {
     "data": {
      "text/plain": [
       "0.64652777777777781"
      ]
     },
     "execution_count": 66,
     "metadata": {},
     "output_type": "execute_result"
    }
   ],
   "source": [
    "auc_rforest.mean()"
   ]
  },
  {
   "cell_type": "code",
   "execution_count": 67,
   "metadata": {
    "collapsed": false
   },
   "outputs": [
    {
     "data": {
      "text/plain": [
       "0.48819444444444449"
      ]
     },
     "execution_count": 67,
     "metadata": {},
     "output_type": "execute_result"
    }
   ],
   "source": [
    "auc_svm.mean()"
   ]
  },
  {
   "cell_type": "code",
   "execution_count": null,
   "metadata": {
    "collapsed": true
   },
   "outputs": [],
   "source": [
    ""
   ]
  }
 ],
 "metadata": {
  "anaconda-cloud": {},
  "kernelspec": {
   "display_name": "Python [conda root]",
   "language": "python",
   "name": "conda-root-py"
  },
  "language_info": {
   "codemirror_mode": {
    "name": "ipython",
    "version": 2.0
   },
   "file_extension": ".py",
   "mimetype": "text/x-python",
   "name": "python",
   "nbconvert_exporter": "python",
   "pygments_lexer": "ipython2",
   "version": "2.7.12"
  }
 },
 "nbformat": 4,
 "nbformat_minor": 0
}